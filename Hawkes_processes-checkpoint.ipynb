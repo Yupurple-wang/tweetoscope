{
 "cells": [
  {
   "cell_type": "markdown",
   "metadata": {},
   "source": [
    "**&#169; CentraleSupélec. For any questions or comments, contact <frederic.pennerath@centralesupelec.fr>.**\n",
    "\n",
    "\n",
    "# The problem: predicting popularity of tweets\n",
    "\n",
    "Here we want to predict how popular will be a tweet just by observing the earlier retweets following it.\n",
    "This study is meant to be instructive and to illustrate how to face a true data science problem properly.\n",
    "\n",
    "## Code of conduct of data scientists\n",
    "\n",
    "So if you don't want to end desesperate and start to pray the antique gods, practice some voodoo ceremony, and finally smash your computer with a baseball bat, you would better listen to the few preliminary advices:\n",
    "\n",
    "* **Method** and **rigor**  are two required skills for a data scientist: do not think your computer is clever so that it will fix your mistakes for you. Always double check everything at every step before jumping to the next one.\n",
    "* **Common sense** and **persistence** are also very important: don't be naive and overly optimistic.There is no magic in statistics and machine learning. Do not expect miracles when facing a problem that is complex in nature, impredictable or poorly instrumented (and here our problem is all three at once). So don't be disappointed if performances are low and never give up: continue working hard in order to provide a best effort solution.\n",
    "* **Perspicacity** and **curiosity**: nothing worse for a being endowed with intelligence, than applying some black box model without understanding what's happening under the cover. Using your brain always pays off. Use your knowledge in statistics to get intuition about underlying issues. If you feel you miss something, try things, change experiment settings, etc, just to have a better sense of how this works.\n",
    "\n",
    "\n",
    "## Vocabulary and reference\n",
    "\n",
    "So before getting your hands dirty, let's just formalize the problem and introduce some common vocabulary.\n",
    "\n",
    "Given an original tweet, its *cascade* is the collection of retweets it generates, where a retweet is abstracted as a *marked event*, i.e a couple (t,m) where:\n",
    "* t is the timestamp of the event/retweet. Here we will asume time start at 0, that is, the original tweet of a cascade is posted at $t=0$.\n",
    "* m is the mark of the event, also *called magnitude*, defined here as the number of followers the author of the retweet has.\n",
    "\n",
    "The *popularity of a tweet* is measured as the *size of its cascade*, defined as the number of retweets the cascade contains (including the initial tweet).\n",
    "Hereafter we consider the *problem of predicting the popularity of a tweet* after observing the earlier part of its cascade, during a given *observation window* of length $T_{obs}$ of typically 10 to 30 minutes starting from the initial tweet.\n",
    "We base our work on marked Hawkes processes (introduced during the lectures) as described in the articles:\n",
    "\n",
    "> [**SEISMIC: A Self-Exciting Point Process Model for Predicting Tweet Popularity**](http://snap.stanford.edu/seismic/seismic.pdf)  \n",
    "> *Q. Zhao, M. Erdogdu, H. He, A. Rajaraman, J. Leskovec*  \n",
    "> in **KDD'15:** *Proceedings of the ACM SIGKDD Conference on Knowledge Discovery and Data Mining (KDD), 2015*\n",
    "\n",
    "\n",
    "> [**Feature Driven and Point Process Approaches for Popularity Prediction**](https://arxiv.org/abs/1608.04862)    \n",
    "> *Swapnil Mishra, Marian-Andrei Rizoiu, Lexing Xie*  \n",
    "> in **CIKM '16:** *Proceedings of the 25th ACM International on Conference on Information and Knowledge Management*\n",
    "\n",
    "## Let's make it simple\n",
    "\n",
    "The proposed models in the articles are however relatively complex to implement and to tune.\n",
    "We here propose the simplest possible model based on Hawkes process so that you can implement and understand all the method by yourself (derivation of mathematical expressions, simulation, estimation of parameters by optimization, prediction, etc), at the sacrifice of the model performance.\n",
    "\n",
    "**Therefore we expect from you to make the method operational, not to reach the same level of performance as the methods of the state of the art (obviously it won't).**\n",
    "\n",
    "\n",
    "\n"
   ]
  },
  {
   "cell_type": "markdown",
   "metadata": {},
   "source": [
    "## Choice of model\n",
    "\n",
    "Compared to the aferomentioned articles, we make a simpler choice for our model:\n",
    "We assume the point process of retweets in a cascade is a Hawkes process with an exponential kernel, to keep derivations simple. During the lectures and class tutorial, we started to derive some useful expressions in this context. There are recalled hereafter.\n",
    "\n",
    "Let represent a cascade by a point process $\\{T_i \\in \\mathbb{R}^+ : i \\in \\mathbb{N}^*\\}$ on the real half line. Assuming the initial tweet of the cascade is posted at $t = 0$, $T_1 = 0$ represents the initial tweet and $\\{ T_i : i \\geq 2\\}$ are the subsequent retweet timestamps. \n",
    "\n",
    "Every time point $t_i$ is complemented by a useful piece of information, which is the number $m_i$ of followers of the author of retweet $t_i$. This number $m_i$ is hereafter referred as the *magnitude* of point $t_i$ (as a reference to earthquake replicas since earthquake modelling has been the initial application of Hawkes process). We formalize this by a so called *marked process* $\\{(T_i, M_i) \\in \\mathbb{R}^ +\\times \\mathbb{R}^+ : i \\in \\mathbb{N}^*\\}$, i.e where every point $t_i$ is *marked* by some magnitude $m_i$.\n",
    "\n",
    "Given some time $t$, we denote $\\mathcal{H}_{t}$ the history at time $t$, i.e the set $\\mathcal{H}_t = \\{(t_i,m_i) \\}_{1 \\leq i \\leq n} : t_i \\leq t\\}$ of marked points observed up to time $t$.\n",
    "Let denote $\\{N_t : t \\in \\mathbb{R}^+ \\}$ the equivalent counting process of $\\{T_i\\}$ equal to the number of (re)tweets at time $t$ for a given cascade. Its *conditional intensity* $\\lambda^*(t)$ at time $t$ is defined as:\n",
    "$$\\lambda^*(t) = \\sum_{i=1}^n \\lambda_+(t_i, m_i) \\, \\phi(t-t_i)$$\n",
    "\n",
    "where\n",
    "* $\\lambda_+(t,m)$ is the intensity increase due to occurrence of point $(t,m)$.\n",
    "* The kernel $\\phi(d)$ is the pdf of the delay $d$ before a follower retweets a message. References say that this delay typically follows a power-law density. However for sake of simplicity, we prefer an exponential kernel parameterized by responsiveness $\\beta > 0$ whose density is\n",
    "$$\\phi(d) = \\beta \\, \\exp(-\\beta \\, d) \\, \\mathbb{1}_{]0,+\\infty[}(d)\\quad.$$\n",
    "\n",
    "**Note:** notation *$\\mathbb{1}_A$ refers hereafter to the characteristic function of set $A$: $\\mathbb{1}_A(x) = 1$ if $x \\in A$, $0$ otherwise.*\n",
    "\n",
    "We make the simplest choice for $\\lambda_+(t,m)$:\n",
    "$$\\lambda_+(t,m) = p \\, m \\quad,$$\n",
    "where $p$ is the average probability of a follower to retweet the message. Therefore $p$ quantifies the virality of the message content.\n",
    "\n",
    "Specifying $\\lambda^*(t)$ is sufficient to generate time points $t_i$.\n",
    "However to generate marked points $(t_i,m_i)$, we also need to know how magnitudes are distributed.\n",
    "Again to keep it simple, we just follow a very coarse assumption given in [Mishra et al. 16]. In this work, they observed that the numbers of followers of the whole population of Twitter users follow a negative **power-law distribution** whose density is characterized by two parameters, the negative power $\\alpha > 2$ and the minimal magnitude $\\mu \\geq 1$:\n",
    "$$\n",
    "f_M(m) = \\frac{\\alpha-1}{\\mu} \\, \\left(\\frac{m}{\\mu}\\right)^{-\\alpha}\\, \\mathbb{1}_{[\\mu,+\\infty[}(m) \\quad .\n",
    "$$\n",
    "The authors then chosed $\\mu = 1$ and found $\\alpha = 2.016$ by fitting the theoretical distribution with a very large number of tweet samples.\n",
    "\n",
    "> **Question:** Why is this very naive?\n",
    "\n",
    "In summary, every cascade is thus only characterized by its two own parameters $(p,\\beta)$ and one global constant parameter $\\alpha$.\n",
    "\n",
    "So let's start, by loading required modules and apply some default settings."
   ]
  },
  {
   "cell_type": "code",
   "execution_count": 3,
   "metadata": {},
   "outputs": [],
   "source": [
    "%matplotlib inline\n",
    "\n",
    "import os\n",
    "import numpy as np\n",
    "import matplotlib as mpl\n",
    "import matplotlib.pyplot as plt\n",
    "import pandas as pd\n",
    "import seaborn as sns\n",
    "from scipy import stats\n",
    "from tqdm.notebook import tqdm\n",
    "\n"
   ]
  },
  {
   "cell_type": "code",
   "execution_count": 4,
   "metadata": {},
   "outputs": [],
   "source": [
    "np.set_printoptions(precision = 2, suppress=True) # Default precision when displaying numpy arrays \n",
    "mpl.rcParams['figure.figsize'] = [ 16, 8 ] # Default figure size"
   ]
  },
  {
   "cell_type": "markdown",
   "metadata": {},
   "source": [
    "# Work first on simulated data\n",
    "\n",
    "The purpose of this labwork is \n",
    "1. first to estimate the parameters of a cascade given its samples observed during an observation window \n",
    "2. then to use these estimated parameters to predict the final cascade size.\n",
    "\n",
    "But... Getting an estimation algorithm working might sometimes be tricky.\n",
    "A good practice to test and debug such an algorithm is to work first on simulated data before applying it to real data.\n",
    "The first debugging stage consists in generating data from some known instance of the model (for some arbitrarily chosen parameter values) and then checking that the estimation algorithm is able to recover the right parameter values from these samples (for a sufficiently large number of them).\n",
    "This allows to fix implementation problems intrinsic to the method (bugs, high variance, choice for hyper parameters, etc).\n",
    "Only once the algorithm works well on simulated data, we can be confident in our algorithm and apply it to real data. We then know the error increase is mostly due to discrepancies between the model and the real data, not about the algorithm itself."
   ]
  },
  {
   "cell_type": "markdown",
   "metadata": {},
   "source": [
    "## Simulation algorithm\n",
    "\n",
    "The first step is to implement an efficient algorithm for simulating a marked Hawkes process.\n",
    "To simulate point processes from their conditional intensity function $t \\mapsto \\lambda^*(t)$, there are two general algorithms: one is based on *inverting the cumulative intensity* (see lecture), one based on rejection sampling (a notion that will be studied later in the course *algorithms for data science*) called the *thinning algorithm*.\n",
    "In case of Hawkes processes, computing the intensity at time $t$ depends on the number $N_t$ of points observed before $t$. To generate one point, we thus need to loop at least $\\Theta(N_t)$ times to evaluate its cumulative intensity.\n",
    "Iterating on points, we get algorithms with at least a quadratic complexity."
   ]
  },
  {
   "cell_type": "markdown",
   "metadata": {},
   "source": [
    "\n",
    "### An efficient algorithm for exponential kernels\n",
    "\n",
    "However choosing an exponential kernel allows to derive an efficient linear algorithm as shown below.\n",
    "Assuming an exponential kernel \n",
    "$$\\phi(d) = \\beta \\, \\exp(-\\beta \\, d) \\, \\mathbb{1}_{> 0}(d)$$\n",
    "and history $\\mathcal{H}_{t_k}$ at some time point $t_k$ the conditional intensity $\\lambda^*(t)$ for $t > t_k$ for the next point $T_{k+1}$ can be rewritten as\n",
    "$$\n",
    "\\begin{align}\n",
    "\\lambda^*(t) & = \\sum_{i=1}^{k} \\lambda_+(t_i,m_i) \\, \\beta \\, \\exp(-\\beta \\, (t - t_i))\\\\\n",
    " & = \\sum_{i=1}^{k} \\lambda_+(t_i,m_i) \\, \\beta \\, \\exp(-\\beta \\, (t_k - t_i)) \\, \\exp(-\\beta \\, (t - t_k))\\\\\n",
    " & = \\lambda^*(t_k) \\, \\exp(- \\beta \\, (t - t_k))\n",
    "\\end{align}\n",
    "$$\n",
    "where term $\\lambda^*(t_k)$ can be updated in constant time, every time $k$ is increased (i.e a new time point is sampled) as detailed below:\n",
    "$$\n",
    "\\begin{align}\n",
    "\\lambda^*(t_k) & = \\sum_{i=1}^{k} \\lambda_+(t_i,m_i) \\, \\beta \\, \\exp(-\\beta \\, (t_k - t_i))\\\\\n",
    "& = \\lambda^*(t_{k-1}) \\, \\exp(-\\beta \\, (t_k - t_{k-1})) + \\lambda_+(t_k,m_k) \\, \\beta \\quad .\n",
    "\\end{align}\n",
    "$$\n",
    "\n",
    "Now the remaining question is how to sample the next point $T_{k+1}$. This can be done by inverting the *cumulative intensity function* $t \\mapsto \\Lambda^*(t)$ (see lecture). \n",
    "Let $t$ be the value of the next point $T_{k+1}$. Then\n",
    "$$\n",
    "\\begin{align}\n",
    "\\Lambda^*(t) & =  \\int_{t_k}^{t} \\lambda^*(\\tau) \\, d\\tau  \\\\\n",
    "& = \\int_{t_k}^{t} \\lambda^*(t_k) \\, \\exp(-\\beta \\, (\\tau - t_k)) \\, d\\tau \\\\\n",
    "& = \\frac{\\lambda^*(t_k)}{\\beta} \\, \\left(1 - \\exp(-\\beta  \\, (t - t_k)) \\right)\n",
    "\\end{align}\n",
    "$$\n",
    "\n",
    "According to the theorem seen during the lectures, we know that:\n",
    "$$\\Lambda^*(T_{k+1}) \\sim Exp(1)$$\n",
    "\n",
    "Let $V \\sim Exp(1)$, then\n",
    "$$\n",
    "\\begin{align}\n",
    "T_{k+1} & = {\\Lambda^*}^{-1}(V)\\\\\n",
    "& = t_k -\\frac{1}{\\beta} \\, \\log \\left(1 - \\frac{\\beta}{\\lambda^*(t_k)} \\, V \\right)\n",
    "\\end{align}\n",
    "$$\n",
    "\n",
    "Note that if $V \\geq \\frac{\\lambda^*(t_k)}{\\beta}$ however, there is no more time point and the process is over."
   ]
  },
  {
   "cell_type": "markdown",
   "metadata": {},
   "source": [
    "### Implementation and test\n",
    "It is time to test this simulation algorithm. One provides the implementation for the case of a simple Hawkes process or equivalenty a marked Hawkes process such that $\\lambda_+(t,m) = \\kappa$ where kappa $\\kappa$ is a parameter of the process.\n",
    "For more flexibility in the simulation, we assume the intensity due to the initial tweet is different from $\\kappa$, equal to some other constant $\\lambda_0$.\n",
    "\n",
    "Please read and understand function `simulate_exp_hawkes_process` with respect to the equations above."
   ]
  },
  {
   "cell_type": "code",
   "execution_count": 5,
   "metadata": {},
   "outputs": [],
   "source": [
    "def simulate_exp_hawkes_process(params, lambda0, max_size=2000):\n",
    "    \"\"\"\n",
    "    Returns a 2D-array containing marked time points simulated from an exponential Hawkes process\n",
    "    \n",
    "    params   -- parameter tuple (kappa,beta) of the generating process\n",
    "    lambda0  -- initial intensity at t = 0.\n",
    "    max_size -- maximal authorized size of the cascade\n",
    "    \"\"\"\n",
    "    \n",
    "    kappa, beta = params    \n",
    "    \n",
    "    # The result is just a 1D array\n",
    "    # However for further compatibility, we reserve a second colum for the magnitude of every point.\n",
    "    # Every row thus describes a marked timepoint (ti, mi) with a magnitude set arbitrarily to one.\n",
    "\n",
    "    # Create an unitialized array for optimization purpose (only memory allocation)\n",
    "    T = np.empty((max_size,2))\n",
    "    \n",
    "    # Set magnitudes to 1.\n",
    "    T[:,1] = 1.\n",
    "    \n",
    "    intensity = beta * lambda0\n",
    "    t = 0.\n",
    "    \n",
    "    # Main loop\n",
    "    for i in range(max_size):\n",
    "        # Save the current point before generating the next one.\n",
    "        T[i,0] = t\n",
    "        \n",
    "        # \n",
    "        u = np.random.uniform()\n",
    "        v = -np.log(u)\n",
    "        w = 1. - beta / intensity * v\n",
    "        # Tests if process stops generating points.\n",
    "        if w <= 0.:\n",
    "            # Shrink T to remove unused rows\n",
    "            T = T[:i,:]\n",
    "            break\n",
    "            \n",
    "        # Otherwise computes the time jump dt and new time point t\n",
    "        dt = - np.log(w) / beta\n",
    "        t += dt\n",
    "        \n",
    "        # And update intensity accordingly\n",
    "        intensity = intensity * np.exp(-beta * dt) + beta * kappa       \n",
    "    return T"
   ]
  },
  {
   "cell_type": "markdown",
   "metadata": {},
   "source": [
    "We also provide below a function `plot_cascade` for plotting the simulated cascade."
   ]
  },
  {
   "cell_type": "code",
   "execution_count": 6,
   "metadata": {},
   "outputs": [],
   "source": [
    "def plot_cascade(cascade, Tmax = None):\n",
    "    plt.stem(cascade[:,0] / 60., cascade[:,1], use_line_collection=True)\n",
    "    plt.yscale('log')\n",
    "    if Tmax is not None:\n",
    "        plt.xlim(None, Tmax/60)\n",
    "    plt.xlabel('time (min)')\n",
    "    plt.ylabel('magnitude (log)')"
   ]
  },
  {
   "cell_type": "markdown",
   "metadata": {},
   "source": [
    "> ** Question **  \n",
    "> Setting for instance $\\beta = 1/3600$ (a time constant of 1 hour), simulate the process for different values of $\\kappa$ and $\\lambda_0$ and observe its plot.\n",
    "> In particular test for $\\kappa = 0.1$ and $\\lambda_0 = 100$. You should observe some clustering effects."
   ]
  },
  {
   "cell_type": "code",
   "execution_count": 7,
   "metadata": {
    "scrolled": true
   },
   "outputs": [
    {
     "name": "stdout",
     "output_type": "stream",
     "text": [
      "103 points generated\n"
     ]
    },
    {
     "data": {
      "image/png": "[encoded data removed]",
      "text/plain": [
       "<Figure size 1152x576 with 1 Axes>"
      ]
     },
     "metadata": {},
     "output_type": "display_data"
    }
   ],
   "source": [
    "params = (0.1, 1/3600.)\n",
    "lambda0 = 100\n",
    "cascade = simulate_exp_hawkes_process(params, lambda0, max_size=10000)\n",
    "\n",
    "print(f\"{len(cascade)} points generated\")\n",
    "plot_cascade(cascade)"
   ]
  },
  {
   "cell_type": "markdown",
   "metadata": {},
   "source": [
    "### Counting processes\n",
    "\n",
    "*Counting processes* are an equivalent representation of *point processes*.  \n",
    "As a reminder, counting process $\\{ N_t \\in \\mathbb{N} | t \\in \\mathbb{R}^+ \\}$ mapped to point process $\\{ P_n \\in \\mathbb{R}^+ | n \\in \\mathbb{N}^*\\}$ is defined as:\n",
    "\n",
    "$$ N_t = \\left| \\, P_i \\leq t \\, | \\, i \\in \\mathbb{N}^* \\right| $$\n",
    "\n",
    "> ** Question **:  \n",
    "> Implement function ``counting_process`` as documented and plot the result\n"
   ]
  },
  {
   "cell_type": "code",
   "execution_count": 8,
   "metadata": {},
   "outputs": [],
   "source": [
    "coef_Tmax = 1.1\n",
    "\n",
    "def counting_process(cascade, T = None):\n",
    "    \"\"\"\n",
    "    Returns a 2D-array N such that N(:,0) contains time samples t and N(:,1) contains images by point process N(t)\n",
    "    \n",
    "    cascade -- 2D-array containing samples of the point process as returned by simulate_exp_hawkes_process\n",
    "    T       -- 1D array containing time samples whose value N(t) has to be computed (if None defines T to cover the full cascade)\n",
    "    \"\"\"\n",
    "    \n",
    "    tks = cascade[:,0]\n",
    "    if T is None:\n",
    "        Tmax = tks[-1] * coef_Tmax\n",
    "        T = np.linspace(0,Tmax)\n",
    "    N = np.zeros((len(T),2))\n",
    "    N[:,0] = T\n",
    "    for tk in tks:\n",
    "        N[T >= tk,1] += 1\n",
    "    return N"
   ]
  },
  {
   "cell_type": "code",
   "execution_count": 9,
   "metadata": {},
   "outputs": [
    {
     "data": {
      "text/plain": [
       "[<matplotlib.lines.Line2D at 0x7f53faf31c18>]"
      ]
     },
     "execution_count": 9,
     "metadata": {},
     "output_type": "execute_result"
    },
    {
     "data": {
      "image/png": "[encoded data removed]",
      "text/plain": [
       "<Figure size 1152x576 with 1 Axes>"
      ]
     },
     "metadata": {},
     "output_type": "display_data"
    }
   ],
   "source": [
    "N = counting_process(cascade)\n",
    "plot_cascade(cascade)\n",
    "plt.plot(N[:,0]/60, N[:,1])"
   ]
  },
  {
   "cell_type": "markdown",
   "metadata": {},
   "source": [
    "### Adaptation to marked exponential Hawkes processes\n",
    "\n",
    "Now we consider the \"marked\" case where\n",
    " $$\\lambda_+(t,m) = p \\, m$$\n",
    "\n",
    "One recalls that event magnitude $M$ has to be drawn from a power law distribution of parameters $\\mu$ and $\\alpha$, whose density is\n",
    "$$\n",
    "f_M(m) = \\frac{\\alpha-1}{\\mu} \\, \\left(\\frac{m}{\\mu}\\right)^{-\\alpha}\\, \\mathbb{1}_{[\\mu,+\\infty[}(m) \\quad .\n",
    "$$\n",
    "We choose different values as in [Mishra et al. 16], for stability purpose: instead, we take $\\mu = 10$ and $\\alpha = 2.3$.\n",
    "\n",
    "Unfortunately numpy function ``np.random.power`` only draws samples from power-law with **positive** parameter.\n",
    "One solution would be to draw samples $y$ from a $(+\\alpha,1)$- power law distribution (i.e with opposite & positive parameter alpha) and then take $m = \\frac{\\mu}{y}$ (why would this work here?)\n",
    "\n",
    "Instead we propose to use this limitation as an excellent opportunity to apply the *inverse transform sampling* technique we saw during the lectures: this technique consists in drawing a uniform sample *u* in the interval $[0,1]$ and apply to $u$ the inverse function $F_M^{-1}(u)$ of the cumulative distribution function $F_M(m) = P(M \\leq m)$ of $M$. The resulting value $s$ is a sample of $M$.\n",
    "\n",
    "> *** Question ***  \n",
    "> Implement the ``neg_power_law`` function using this technique (use ``np.random.uniform(size)`` for this purpose).\n",
    "> Check your function correctly works by comparing the histogram of many samples with the theoretical density function (you can use the provided code snippet).\n"
   ]
  },
  {
   "cell_type": "code",
   "execution_count": 10,
   "metadata": {},
   "outputs": [],
   "source": [
    "def neg_power_law(alpha, mu, size=1):\n",
    "    \"\"\"\n",
    "    Returns a 1D-array of samples drawn from a negative power law distribution\n",
    "    \n",
    "    alpha -- power parameter of the power-law mark distribution\n",
    "    mu    -- min value parameter of the power-law mark distribution\n",
    "    size  -- number of samples\n",
    "    \"\"\"\n",
    "    \n",
    "    u = np.random.uniform(size=size)\n",
    "    return mu * np.exp(np.log(u) / (1. - alpha))\n"
   ]
  },
  {
   "cell_type": "code",
   "execution_count": 11,
   "metadata": {},
   "outputs": [
    {
     "name": "stdout",
     "output_type": "stream",
     "text": [
      "sample average = 43.14, expected value = 43.33\n"
     ]
    },
    {
     "data": {
      "text/plain": [
       "[<matplotlib.lines.Line2D at 0x7f53fa6cd198>]"
      ]
     },
     "execution_count": 11,
     "metadata": {},
     "output_type": "execute_result"
    },
    {
     "data": {
      "image/png": "[encoded data removed]",
      "text/plain": [
       "<Figure size 1152x576 with 1 Axes>"
      ]
     },
     "metadata": {},
     "output_type": "display_data"
    }
   ],
   "source": [
    "mu = 10; alpha = 2.3; \n",
    "max_mark = 100\n",
    "\n",
    "samples = neg_power_law(alpha, mu, size=100000)\n",
    "print(f\"sample average = {np.mean(samples):0.2f}, expected value = {mu * (alpha - 1)/(alpha - 2):0.2f}\")\n",
    "\n",
    "plt.hist(samples[samples < max_mark], range=(1,max_mark), bins=1000,density=True,log=True)\n",
    "m = np.linspace(mu,max_mark)\n",
    "plt.plot(m, (alpha - 1) / mu * (m / mu) ** (-alpha), 'r')"
   ]
  },
  {
   "cell_type": "markdown",
   "metadata": {},
   "source": [
    "> ** Question: **  \n",
    "> Fill in function `simulate_marked_exp_hawkes_process` below by adapting `simulate_exp_hawkes_process` so that it simulates on a marked Hawkes process parameterized by $(p, \\beta)$-exponential kernel and a $(\\mu,\\alpha)$-power law mark distribution. You will reuse your ``neg_power_law`` function.\n",
    ">Then simulate and plot the process for different parameter values.\n",
    "\n",
    "*Note:* *we will see later that the following condition must be verified for the process not to diverge*\n",
    " $$ n^* = p \\, \\mu \\, \\frac{\\alpha - 1}{\\alpha - 2} < 1$$\n",
    "> ** Question: **  \n",
    "> Observe what happens when you take parameter values so that $n^*$ gets smaller or larger than $1$."
   ]
  },
  {
   "cell_type": "code",
   "execution_count": 12,
   "metadata": {},
   "outputs": [],
   "source": [
    "def simulate_marked_exp_hawkes_process(params, m0, alpha, mu, max_size=10000):\n",
    "    \"\"\"\n",
    "    Returns a 2D-array whose rows contain marked time points simulated from an exponential Hawkes process\n",
    "    \n",
    "    params   -- parameter tuple (p,beta) of the generating process\n",
    "    m0       -- magnitude of the initial tweet at t = 0.\n",
    "    alpha    -- power parameter of the power-law mark distribution\n",
    "    mu       -- min value parameter of the power-law mark distribution\n",
    "    max_size -- maximal authorized size of the cascade\n",
    "    \"\"\"\n",
    "    \n",
    "    p, beta = params    \n",
    "    \n",
    "    # Every row contains a marked time point (ti,mi).\n",
    "    # Create an unitialized array for optimization purpose (only memory allocation)\n",
    "    T = np.empty((max_size,2))\n",
    "    \n",
    "    intensity = beta * p * m0\n",
    "    t, m = 0., m0\n",
    "    \n",
    "    # Main loop\n",
    "    for i in range(max_size):\n",
    "        # Save the current point before generating the next one.\n",
    "        T[i] = (t,m)\n",
    "        \n",
    "        # \n",
    "        u = np.random.uniform()\n",
    "        v = -np.log(u)\n",
    "        w = 1. - beta / intensity * v\n",
    "        # Tests if process stops generating points.\n",
    "        if w <= 0.:\n",
    "            T = T[:i,:]\n",
    "            break\n",
    "            \n",
    "        # Otherwise computes the time jump dt and new time point t\n",
    "        dt = - np.log(w) / beta\n",
    "        t += dt\n",
    "        \n",
    "        # And update intensity accordingly\n",
    "        m = neg_power_law(alpha, mu)\n",
    "        lambda_plus = p * m\n",
    "        intensity = intensity * np.exp(-beta * dt) + beta * lambda_plus        \n",
    "    return T"
   ]
  },
  {
   "cell_type": "code",
   "execution_count": 13,
   "metadata": {
    "scrolled": true
   },
   "outputs": [
    {
     "name": "stdout",
     "output_type": "stream",
     "text": [
      "n_star = 0.88\n",
      "178 points generated\n"
     ]
    },
    {
     "data": {
      "image/png": "[encoded data removed]",
      "text/plain": [
       "<Figure size 1152x576 with 1 Axes>"
      ]
     },
     "metadata": {},
     "output_type": "display_data"
    }
   ],
   "source": [
    "p, beta = 0.025, 1/3600.\n",
    "alpha, mu = 2.4, 10\n",
    "m0 = 1000\n",
    "n_star = p * mu * (alpha - 1) / (alpha - 2)\n",
    "print(f\"n_star = {n_star:.2f}\")\n",
    "cascade = simulate_marked_exp_hawkes_process((p,beta), m0, alpha, mu, max_size=10000)\n",
    "\n",
    "print(f\"{len(cascade)} points generated\")\n",
    "plot_cascade(cascade)"
   ]
  },
  {
   "cell_type": "markdown",
   "metadata": {},
   "source": [
    "# Analyzing marked Hawkes processes\n",
    "\n",
    "To analyze the dynamics of a point process, it's first important to compute and plot its conditional intensity.\n",
    "We recall that\n",
    "$$\\lambda^*(t) = \\sum_{t_i < t} p \\, m_i \\, \\beta \\, \\exp(-\\beta \\,(t-t_i))$$\n",
    "\n",
    "> ** Question:**  \n",
    "> Implement function `cond_intensity` to compute the intensity of a Hawkes process with exponential kernel given its parameters."
   ]
  },
  {
   "cell_type": "code",
   "execution_count": 14,
   "metadata": {},
   "outputs": [],
   "source": [
    "def cond_intensity(params, history, T):\n",
    "    \"\"\"\n",
    "    Returns a numpy 2D-array containing the conditional intensity of an exponential Hawkes process\n",
    "    (first column is time, second is mapped intensity)\n",
    "    \n",
    "    params   -- parameter tuple (p,beta) of the Hawkes process\n",
    "    history  -- (n,2) numpy array containing marked time points (t_i,m_i)\n",
    "    T        -- 1D-array containing the input times for which the intensity must be computed\n",
    "    \"\"\"\n",
    "    \n",
    "    p, beta = params    \n",
    "    I = np.zeros((len(T),2))\n",
    "    I[:,0] = T\n",
    "                 \n",
    "    # For every marked point,\n",
    "    for ti,mi in history:\n",
    "        # Get all time indexes whose time is greater than ti\n",
    "        J = T >= ti\n",
    "        # Update the intensity for all times larger thanti\n",
    "        I[J,1] += mi * np.exp(-beta * (T[J]-ti))\n",
    "        \n",
    "    # Don't forget to multiply by p*beta\n",
    "    I[:,1] *= p * beta\n",
    "    return I"
   ]
  },
  {
   "cell_type": "markdown",
   "metadata": {},
   "source": [
    "> **Question:**  \n",
    "> Test by generating a cascade and then draw the resulting conditional intensity using the already implemented `draw_intensity` function."
   ]
  },
  {
   "cell_type": "code",
   "execution_count": 15,
   "metadata": {},
   "outputs": [],
   "source": [
    "def draw_intensity(params, history, Tmax = None, label = \"\"):\n",
    "    \"\"\"\n",
    "    Draws an intensity plot along the history\n",
    "    \n",
    "    params   -- parameter tuple (p,beta) of the Hawkes process\n",
    "    history  -- (n,2) numpy array containing marked time points (t_i,m_i)\n",
    "    Tmax     -- upper bound of the plot interval\n",
    "    label    -- legend label\n",
    "    \"\"\"\n",
    "\n",
    "    if Tmax is None:\n",
    "        Tmax = history[-1,0] * coef_Tmax\n",
    "    T = np.linspace(-10., Tmax, 1000)\n",
    "    I = cond_intensity(params, history, T)\n",
    "    plt.plot(I[:,0] / 60., I[:,1] , label = label)\n",
    "    plt.plot(history[:,0]/60, np.zeros(len(history)),'o', color='red')\n",
    "    plt.title('Process intensity')\n",
    "    plt.xlabel('Time (min)')"
   ]
  },
  {
   "cell_type": "code",
   "execution_count": 16,
   "metadata": {},
   "outputs": [
    {
     "data": {
      "image/png": "[encoded data removed]",
      "text/plain": [
       "<Figure size 1152x576 with 1 Axes>"
      ]
     },
     "metadata": {},
     "output_type": "display_data"
    }
   ],
   "source": [
    "draw_intensity((p,beta), cascade)"
   ]
  },
  {
   "cell_type": "markdown",
   "metadata": {},
   "source": [
    "To know the average number of generated points of a process given its conditional intensity, we just need to compute the cumulative intensity function\n",
    "$$\\Lambda(t) = \\int_0^t \\lambda^*(\\tau) \\, d\\tau$$\n",
    "Then the average number of points in an interval $[a,b]$ is just\n",
    "$$\\mathbb{E}(N(b) - N(a)) = \\int_a^b \\lambda^*(\\tau) \\, d\\tau = \\Lambda(b) - \\Lambda(a)$$\n",
    "\n",
    "> **Question:**  \n",
    "> Complete function ``cumul_intensity`` to compute the cumulative intensity function  \n",
    "\n",
    "**Indication:** *to compute the integral, you can either take a general approach (recommended) using function ``scipy.integrate.cumtrapz``, or you can compute the exact value of the integral specifically for exponential kernels.*"
   ]
  },
  {
   "cell_type": "code",
   "execution_count": 17,
   "metadata": {},
   "outputs": [],
   "source": [
    "from scipy import integrate\n",
    "\n",
    "def cumul_intensity(cond_intensity):\n",
    "    \"\"\"\n",
    "    Returns a 2D array containing the cumulative intensity such that first column is time\n",
    "    and second is mapped cumulative intensity up to given time.\n",
    " \n",
    "    cond_intensity -- 2D-array as returned by cond_intensity function\n",
    "    \"\"\"\n",
    "    \n",
    "    T = cond_intensity[:,0]\n",
    "    I = cond_intensity[:,1]\n",
    "    \n",
    "    C = np.empty_like(cond_intensity)\n",
    "    C[:,0] = T\n",
    "    C[:,1] = integrate.cumtrapz(I, T, initial=0)\n",
    "    return C\n"
   ]
  },
  {
   "cell_type": "markdown",
   "metadata": {},
   "source": [
    "> **Question:**  \n",
    "> Check your function correctly works by drawing on the same plot the cumulative intensity (using the provided ``draw_cumul_intensity`` function) and the real counts (i.e given by computing the counting process N).\n",
    "> You should observe that the cumulative intensity is more or less the counting process (some gaps can occur), but looks the same locally. Why is this?"
   ]
  },
  {
   "cell_type": "code",
   "execution_count": 18,
   "metadata": {},
   "outputs": [],
   "source": [
    "def draw_cumul_intensity(params, history, Tmax=None, label=\"\"):\n",
    "    if Tmax is None:\n",
    "        Tmax = history[-1,0] * coef_Tmax\n",
    "    T = np.linspace(-10., Tmax, 1000)\n",
    "    I = cond_intensity(params, history, T)\n",
    "    cumul = cumul_intensity(I)\n",
    "    plt.plot(cumul[:,0]/60., cumul[:,1], label=label)\n",
    "    plt.xlabel('Time (min)')"
   ]
  },
  {
   "cell_type": "code",
   "execution_count": 19,
   "metadata": {},
   "outputs": [
    {
     "data": {
      "text/plain": [
       "<matplotlib.legend.Legend at 0x7f53e909bf60>"
      ]
     },
     "execution_count": 19,
     "metadata": {},
     "output_type": "execute_result"
    },
    {
     "data": {
      "image/png": "[encoded data removed]",
      "text/plain": [
       "<Figure size 1152x576 with 1 Axes>"
      ]
     },
     "metadata": {},
     "output_type": "display_data"
    }
   ],
   "source": [
    "draw_cumul_intensity((p,beta), cascade, label='$\\Lambda(t)$')\n",
    "N = counting_process(cascade)\n",
    "plt.plot(N[:,0]/60, N[:,1], label='N(t)')\n",
    "plt.legend()"
   ]
  },
  {
   "cell_type": "markdown",
   "metadata": {},
   "source": [
    "# Prediction\n",
    "\n",
    "We now look at the problem of predicting at current time $t$ the total size $N_\\infty(t)$ of a cascade given the parameters $(p,\\beta)$ of the generating process and its history $\\mathcal{H}_t = \\{(m_1,t_1) \\dots (m_n,t_n), T_{n+1} > t\\}$, that is\n",
    "$$\n",
    "N_\\infty(t) = \\lim_{\\tau \\rightarrow +\\infty} \\mathbb{E}\\left( N_{\\tau}\\, |\\, \\mathcal{H}_t \\right) \\quad .\n",
    "$$\n",
    "Now let's denote $G_k$ the number of points (i.e retweets) of the $k^{th}$ next generation:\n",
    "* For $k=1$, the first generation are points generated by the $n$ past points observed in $\\mathcal{H}_t$,\n",
    "* For $k>1$, the $k^{th}$ generation are those generated by a point of the previous $(k-1)^{th}$ generation.\n",
    "\n",
    "Then the expected total number of points is clearly:\n",
    "$$\n",
    "N_\\infty(t) = n + \\mathbb{E}\\left(G_1\\right) + \\mathbb{E}\\left(G_2\\right) +  \\mathbb{E}\\left(G_3\\right) \\dots\n",
    "$$\n",
    "\n",
    "What is the relation between $\\mathbb{E}\\left(G_{k+1}\\right)$ and $\\mathbb{E}\\left(G_k\\right)$ for $k\\geq 1$ ?\n",
    "\n",
    "To answer this question, let consider point (i.e retweet) number $i$ of the $k^{th}$ generation and let denote $N^{(k)}_i$ the number of points of the ${k+1}^{th}$ generation whose parent is $i$. Then\n",
    "$$\n",
    "\\mathbb{E}\\left(G_{k+1} \\, |\\, G_k = g \\right) = \\mathbb{E}\\left(\\sum_{i=1}^{g} N^{(k)}_i \\, \\middle|\\, G_k = g \\right) = \\sum_{i=1}^{g} \\mathbb{E}\\left( N^{(k)}_i \\right)\n",
    "$$\n",
    "Assuming all $N^{(k)}_i$ are indenpendent and identically distributed given their magnitude (this is a very coarse hypothesis, why?), we get:\n",
    "$$\n",
    "\\mathbb{E}\\left( N^{(k)}_i \\right) = \\mathbb{E}\\left( N^{(k)} \\, |\\, M \\right) = \\int_1^{+\\infty} \\mathbb{E}\\left( N^{(k)} \\, |\\, M = m\\right)  \\, P_M(m) \\, dm\n",
    "$$\n",
    "Quantity $\\mathbb{E}\\left( N^{(k)} | M = m\\right)$ is the average number of points generated by one given point of generation $k$ and magnitude $m$. Its value is given by integrating the partial intensity due to this single point. Assuming the point occurs at $t=t_i$, we get:\n",
    "$$\n",
    "\\begin{align}\n",
    "\\mathbb{E}\\left( N^{(k)} \\, |\\, M = m\\right)& = \\int_{t_i}^{+\\infty} p \\, m \\, \\phi(t-t_i) \\, dt\\\\\n",
    "& = p \\,m\n",
    "\\end{align}\n",
    "$$\n",
    "Replacing,\n",
    "$$\n",
    "\\begin{align}\n",
    "\\mathbb{E}\\left( N^{(k)}_i \\right) & = \\int_1^{+\\infty} p \\, m \\, P_M(m) \\, dm\\\\\n",
    "& = p \\, \\mathbb{E}\\left(M\\right)\n",
    "\\end{align}\n",
    "$$\n",
    "So\n",
    "$$\n",
    "\\mathbb{E}\\left(G_{k+1} \\, |\\, G_k = g\\right) = p \\, \\mathbb{E}\\left(M\\right) \\, g\n",
    "$$\n",
    "Finally\n",
    "$$\n",
    "\\begin{align}\n",
    "\\mathbb{E}\\left(G_{k+1}\\right) & = \\int_0^{+\\infty} \\mathbb{E}\\left(G_{k+1} \\, |\\, G_k = g\\right) \\, P_{G_k}(g) \\, dg \\\\\n",
    "& = \\int_0^{+\\infty} p \\, \\mathbb{E}\\left(M\\right) \\, g \\, P_{G_k}(g) \\, dg \\\\\n",
    "& = p \\, \\mathbb{E}\\left(M\\right) \\, \\mathbb{E}\\left(G_k\\right) \\\\\n",
    "& = n^* \\, \\mathbb{E}\\left(G_k\\right) \\text{ with } n^* = p \\, \\mathbb{E}\\left(M\\right)\n",
    "\\end{align}\n",
    "$$\n",
    "Therefore $(\\mathbb{E}\\left(G_k\\right))$ is a geometric sequence and\n",
    "$$\n",
    "\\mathbb{E}\\left(G_k\\right) = {\\left(n^*\\right)}^{k-1} \\, \\mathbb{E}\\left(G_1\\right)\n",
    "$$\n",
    "\n",
    "The number denoted $n^*$ is called the **branching factor** of the self-exciting process. \n",
    "It is the number of points generated on average by a single point. As we can see, the global process behaves as if all points had a constant branching factor.\n",
    "\n",
    "**Note:** *this number is at the heart of the very hot COVID-19 topic: in the field of epidemiology, the branching factor is also called the *reproduction number $R$*, defined as the average number of people that catch the virus from one single person.*\n",
    "\n",
    "If $n^* \\geq 1$, obviously the sequence $G_k$ is positive non decreasing so that $N_\\infty(t) = +\\infty$.\n",
    "Otherwise the expected total number of points is:\n",
    "$$\n",
    "\\begin{align}\n",
    "N_\\infty(t) & = n + G_1 + G_2 + G_3 \\dots \\\\\n",
    "& = n + G_1 + n^* \\, G_1 + {n^*}^2 \\, G_1 + \\dots \\\\\n",
    "& = n + \\frac{G_1}{1 - n^*}\\\\\n",
    "& = n + \\frac{G_1}{1 - p \\, \\mathbb{E}\\left(M\\right)}\n",
    "\\end{align}\n",
    "$$\n",
    "The two remaining unknowns are thus $G_1$ and $\\mathbb{E}\\left(M\\right)$.\n",
    "The latter is easy to compute:\n",
    "$$\n",
    "\\mathbb{E}\\left(M\\right)  = \\int_\\mu^{+\\infty} \\frac{\\alpha - 1}{\\mu} \\, \\left(\\frac{m}{\\mu}\\right)^{-\\alpha}\\, m \\, dm = \\frac{\\alpha - 1}{\\alpha - 2}\\, \\mu\n",
    "$$\n",
    "Since all cascades are assumed to be finite, the constraint $n^* < 1$ enforces the condition\n",
    "$$\n",
    "p \\, \\mu < \\frac{\\alpha - 2}{\\alpha - 1} \\quad .\n",
    "$$\n",
    "The value of $G_1$ is given by\n",
    "$$\n",
    "\\begin{align}\n",
    "G_1 & = \\Lambda(+\\infty) - \\Lambda(t) = \\int_t^{+\\infty} \\lambda^*(t) \\, dt \\\\\n",
    "& = \\int_t^{+\\infty}  \\sum_{i=1}^n p \\, m_i \\, \\beta \\, \\exp(- \\beta \\, (t - t_i)) \\, dt \\\\\n",
    "& = p \\, \\sum_{i=1}^n \\, m_i \\, \\exp(- \\beta \\, (t - t_i)) \\quad .\n",
    "\\end{align}\n",
    "$$\n",
    "To summarize,\n",
    "$$\n",
    "N_\\infty(t) = n + \\frac{p \\, \\sum_{i=1}^n \\, m_i \\, \\exp(- \\beta \\, (t - t_i))}{1 - n^*} \\text{ with } n^* = p \\, \\mu \\, \\frac{\\alpha - 1}{\\alpha - 2} < 1\n",
    "$$\n"
   ]
  },
  {
   "cell_type": "markdown",
   "metadata": {},
   "source": [
    "> **Question: **  \n",
    "> Complete function ``prediction()`` that predicts given the parameters of the process and its history, the total size of a cascade for one single given time $t$.\n",
    "\n",
    "**Warning: at time $t$, the sum in expression of $G_1$ is computed only on points $(t_i,m_i)$ such that $t_i < t$.**"
   ]
  },
  {
   "cell_type": "code",
   "execution_count": 161,
   "metadata": {},
   "outputs": [],
   "source": [
    "def prediction(params, history, alpha, mu, t):\n",
    "    \"\"\"\n",
    "    Returns the expected total numbers of points for a set of time points\n",
    "    \n",
    "    params   -- parameter tuple (p,beta) of the Hawkes process\n",
    "    history  -- (n,2) numpy array containing marked time points (t_i,m_i)  \n",
    "    alpha    -- power parameter of the power-law mark distribution\n",
    "    mu       -- min value parameter of the power-law mark distribution\n",
    "    t        -- current time (i.e end of observation window)\n",
    "    \"\"\"\n",
    "\n",
    "    p,beta = params\n",
    "    \n",
    "    tis = history[:,0]\n",
    "   \n",
    "    EM = mu * (alpha - 1) / (alpha - 2)\n",
    "    n_star = p * EM\n",
    "    if n_star >= 1:\n",
    "        raise Exception(f\"Branching factor {n_star:.2f} greater than one\")\n",
    "    n = len(history)\n",
    "\n",
    "    I = history[:,0] < t\n",
    "    tis = history[I,0]\n",
    "    mis = history[I,1]\n",
    "    G1 = p * np.sum(mis * np.exp(-beta * (t - tis)))\n",
    "    Ntot = n + G1 / (1. - n_star)\n",
    "    return Ntot"
   ]
  },
  {
   "cell_type": "markdown",
   "metadata": {},
   "source": [
    "> **Question: **  \n",
    "> As a facility, complete function  ``predictions()`` that predicts given the parameters of the process and its history, the total size of a cascade for a set of current times (provided by a 1D-array $T$).  \n",
    "\n",
    "*Indication: the code provided for ``predictions()`` in the correction is optimized but a naive implementation is fine: just compute in one internal function the prediction for one single time according to the given expression above, and then call this function for every time in $T$.*\n",
    "\n",
    "**Warning: at time $t$, the sum in expression of $G_1$ is computed only on points $(t_i,m_i)$ such that $t_i < t$.**"
   ]
  },
  {
   "cell_type": "code",
   "execution_count": 160,
   "metadata": {},
   "outputs": [],
   "source": [
    "def predictions(params, history, alpha, mu, T = None):\n",
    "    \"\"\"\n",
    "    Returns the expected total numbers of points for a set of time points\n",
    "    \n",
    "    params   -- parameter tuple (p,beta) of the Hawkes process\n",
    "    history  -- (n,2) numpy array containing marked time points (t_i,m_i)  \n",
    "    alpha    -- power parameter of the power-law mark distribution\n",
    "    mu       -- min value parameter of the power-law mark distribution\n",
    "    T        -- 1D-array of times (i.e ends of observation window)\n",
    "    \"\"\"\n",
    "\n",
    "    p,beta = params\n",
    "    \n",
    "    tis = history[:,0]\n",
    "    if T is None:\n",
    "        T = np.linspace(60,tis[-1],1000)\n",
    "\n",
    "    N = np.zeros((len(T),2))\n",
    "    N[:,0] = T\n",
    "    \n",
    "    EM = mu * (alpha - 1) / (alpha - 2)\n",
    "    n_star = p * EM\n",
    "    if n_star >= 1:\n",
    "        raise Exception(f\"Branching factor {n_star:.2f} greater than one\")\n",
    "    n = len(history)\n",
    "\n",
    "    Si, ti_prev, i = 0., 0., 0\n",
    "    \n",
    "    for j,t in enumerate(T):\n",
    "        \n",
    "        for (ti,mi) in history[i:]:\n",
    "            if ti >= t:\n",
    "                break\n",
    "            else:\n",
    "                Si = Si * np.exp(-beta * (ti - ti_prev)) + mi\n",
    "                ti_prev = ti\n",
    "                i += 1\n",
    "                \n",
    "        G1 = p * Si * np.exp(-beta * (t - ti_prev))\n",
    "        N[j,1] = n + G1 / (1. - n_star)\n",
    "    return N"
   ]
  },
  {
   "cell_type": "markdown",
   "metadata": {},
   "source": [
    "> **Question:**  \n",
    "> Test your prediction functions by generating a cascade from a process with known parameters.\n",
    "> Then plot the time evolution of the size prediction along with the counting process.\n",
    "> Test for the different parameters and see how predictions vary..."
   ]
  },
  {
   "cell_type": "code",
   "execution_count": 162,
   "metadata": {},
   "outputs": [
    {
     "name": "stdout",
     "output_type": "stream",
     "text": [
      "Branching factor n* = 0.70\n",
      "               E(M) = 35.00 avg(mi) = 25.89\n",
      "                  n = 37\n"
     ]
    }
   ],
   "source": [
    "p, beta = 0.02, 1/3600.\n",
    "alpha, mu = 2.4, 10\n",
    "\n",
    "EM = mu * (alpha-1)/(alpha-2)\n",
    "print(f\"Branching factor n* = {p * EM:.2f}\")\n",
    "if p * EM >= 1:\n",
    "    raise Exception(f\"p must be less than {1/EM:.2f}\")\n",
    "\n",
    "cascade = simulate_marked_exp_hawkes_process((p,beta), m0, alpha, mu)\n",
    "\n",
    "print(f\"               E(M) = {EM:.2f} avg(mi) = {np.mean(cascade[1:,1]):.2f}\")\n",
    "print(f\"                  n = {len(cascade)}\")\n"
   ]
  },
  {
   "cell_type": "code",
   "execution_count": 163,
   "metadata": {},
   "outputs": [
    {
     "name": "stdout",
     "output_type": "stream",
     "text": [
      "Prediction at 50 min = 85\n"
     ]
    },
    {
     "data": {
      "text/plain": [
       "<matplotlib.legend.Legend at 0x7f53e7c08400>"
      ]
     },
     "execution_count": 163,
     "metadata": {},
     "output_type": "execute_result"
    },
    {
     "data": {
      "image/png": "[encoded data removed]",
      "text/plain": [
       "<Figure size 1152x576 with 1 Axes>"
      ]
     },
     "metadata": {},
     "output_type": "display_data"
    }
   ],
   "source": [
    "tmin = 50\n",
    "pred = prediction((p,beta), cascade, alpha, mu,tmin * 60)\n",
    "print(f\"Prediction at {tmin} min = {int(pred)}\")\n",
    "\n",
    "preds = predictions((p,beta), cascade, alpha, mu)\n",
    "plt.plot(preds[:,0]/60,preds[:,1], label='pred')\n",
    "N = counting_process(cascade)\n",
    "plt.plot(N[:,0]/60, N[:,1], label='N')\n",
    "plt.legend()"
   ]
  },
  {
   "cell_type": "markdown",
   "metadata": {},
   "source": [
    "As you can see, even when knowing perflectly the parameters of a generative model, prediction is a very hard problem, especially for short observation windows.\n",
    "This is a general fact in prediction problems where given some past & present, there is generally a huge number of possible and strongly different futures."
   ]
  },
  {
   "cell_type": "markdown",
   "metadata": {},
   "source": [
    "Now that we have gathered all the basic ingredients to simulate, plot and predict Hawkes processes, time has come to look at parameter estimation.\n",
    "\n",
    "\n",
    "# Computing MLE\n",
    "\n",
    "The roadmap is to compute the *likelihood* $\\mathcal{L}(\\theta)$ of a process given the available observations in some time window $[0,t]$ and then to compute the *maximum likelihood estimator (MLE)*, i.e parameters $\\hat{\\theta}_{MLE}$ that maximize likelihood using some optimization algorithm (gradient ascent, Newton-Raphson, etc).\n",
    "\n",
    "##  Computing likelihood\n",
    "\n",
    "The first step is to compute the likelihood.\n",
    "During the lectures, we showed that the likelihood of an unmarked point process with respect to its history $\\mathcal{H}_t = \\{ (t_i)_{1 \\leq i \\leq n} \\, | \\, t_i \\leq t\\}$ is:\n",
    "$$\n",
    "\\mathcal{L}_u(\\theta)  = P(\\mathcal{H}_t \\, | \\, \\theta) = \\left( \\prod_{i=1}^n \\lambda^*(t_i) \\right) \\, \\exp(-\\Lambda(t))$$\n",
    "However here we choose always the time reference so that $t_1 = 0$. Consequently here\n",
    "$$\n",
    "\\mathcal{L}_u(\\theta)  = P(\\mathcal{H}_t \\, | \\, \\theta) \n",
    " = \\left( \\prod_{i=2}^n \\lambda^*(t_i) \\right) \\, \\exp(-\\Lambda(t))\n",
    "$$\n",
    "\n",
    "Now let's consider our problem that includes marks:\n",
    "given history $\\mathcal{H}_t = \\{(t_i,m_i)_{1 \\leq i \\leq n} \\, | \\, t_i \\leq t\\}$, and given the fact $\\alpha$ is a predetermined constant, the likelihood $\\mathcal{L}_m$ can be decomposed in two independent factors:\n",
    "$$\n",
    "\\begin{align}\n",
    "\\mathcal{L}_m(\\theta) & = P(\\mathcal{H}_t \\, | \\, \\theta, \\alpha) \\\\\n",
    "& = P((t_i)_{1 \\leq i \\leq n} \\, | \\, \\theta, \\alpha) \\times P((m_i)_{1 \\leq i \\leq n} \\, | \\, (t_i)_{1 \\leq i \\leq n} \\, \\theta, \\alpha) \\\\\n",
    "& = P((t_i)_{1 \\leq i \\leq n} \\, | \\, \\theta) \\times \\prod_{i=1}^n P(m_i \\, | \\, \\alpha) \\\\\n",
    "& = \\mathcal{L}_u(\\theta) \\times cst.\n",
    "\\end{align}\n",
    "$$\n",
    "\n",
    "We see that observed magnitudes $m_i$ have no influence on the choice of parameters $\\theta$ so that we can consider that the likelihood is just $\\mathcal{L}(\\theta) = \\mathcal{L}_u(\\theta)$.\n",
    "\n",
    "> **Question:**  \n",
    "> Simplify the expression of the loglikelihood in case of a Hawkes process with exponential kernel parameterized by $\\theta = (p,\\beta)$ and show this is equal to\n",
    "> $$\\log\\mathcal{L}(\\theta) = (n-1) \\, \\log(p\\, \\beta) + \\sum_{i=2}^n \\log\\left(\\sum_{j=1}^{i-1} m_j \\, \\exp\\left(-\\beta \\,(t_i-t_j)\\right)\\right) - p \\,\\left(\\sum_{i=1}^n m_i \\, \\left(1 - \\exp \\left(-\\beta(t - t_i)\\right)\\right)\\right) $$"
   ]
  },
  {
   "cell_type": "markdown",
   "metadata": {},
   "source": [
    "> **Question:**  \n",
    "> Implement this expression in function ``naive_loglikelihood``. What is the time complexity with respect to $n$?"
   ]
  },
  {
   "cell_type": "code",
   "execution_count": 86,
   "metadata": {},
   "outputs": [],
   "source": [
    "def naive_loglikelihood(params, history, t):\n",
    "    \"\"\"\n",
    "    Returns the loglikelihood of a Hawkes process with exponential kernel\n",
    "        \n",
    "    params   -- parameter tuple (p,beta) of the Hawkes process\n",
    "    history  -- (n,2) numpy array containing marked time points (t_i,m_i)  \n",
    "    t        -- current time (i.e end of observation window)\n",
    "    \"\"\"\n",
    "    \n",
    "    p,beta = params    \n",
    "    n = len(history)\n",
    "    tis = history[:,0]\n",
    "    mis = history[:,1]\n",
    "    \n",
    "    LL = (n-1) * np.log(p * beta)\n",
    "    \n",
    "    for i in range(1,n):      \n",
    "        LL += np.log(np.sum(mis[:i] * np.exp(-beta * (tis[i] - tis[:i]))))\n",
    "        \n",
    "    LL -= p * np.sum(mis * (1. - np.exp(-beta * (t - tis))))\n",
    "\n",
    "    return LL"
   ]
  },
  {
   "cell_type": "markdown",
   "metadata": {},
   "source": [
    "To check this function behaves as expected, we can test it on a large cascade (why do we need a large cascade?). \n",
    "We provide function ``evaluate_likelihood_of_params`` for this purpose.\n",
    "Understand what it does and use it on a large cascade. \n",
    "Check you obtain the expected results.\n",
    "\n",
    "*Be careful: likelihood is here a density, not a probability (i.e might be greater than 1)*\n"
   ]
  },
  {
   "cell_type": "code",
   "execution_count": 93,
   "metadata": {},
   "outputs": [],
   "source": [
    "def evaluate_likelihood_of_params(params, cascade, t, ratio = 0.7):\n",
    "    n = len(cascade)\n",
    "    print(f\"Number of samples = {n}\")\n",
    "    print(\"Average likelihoods per sample:\")\n",
    "    def test_params(p):\n",
    "        LL = naive_loglikelihood(p, cascade, t)\n",
    "        print(f\"  {np.exp(LL /n):0.7f} for (p,beta)=({p[0]:0.3f},{p[1]:0.5f})\")\n",
    "    \n",
    "    test_params(params)\n",
    "    test_params((params[0] * ratio, params[1]))\n",
    "    test_params((params[0] / ratio, params[1]))\n",
    "    test_params((params[0], params[1] * ratio))\n",
    "    test_params((params[0], params[1] / ratio))"
   ]
  },
  {
   "cell_type": "code",
   "execution_count": 94,
   "metadata": {},
   "outputs": [
    {
     "name": "stdout",
     "output_type": "stream",
     "text": [
      "n = 56\n"
     ]
    }
   ],
   "source": [
    "p, beta = 0.025, 1/3600.\n",
    "alpha, mu = 2.4, 10\n",
    "cascade = simulate_marked_exp_hawkes_process((p,beta), m0, alpha, mu)\n",
    "print(f\"n = {len(cascade)}\")"
   ]
  },
  {
   "cell_type": "code",
   "execution_count": 95,
   "metadata": {},
   "outputs": [
    {
     "name": "stdout",
     "output_type": "stream",
     "text": [
      "Number of samples = 56\n",
      "Average likelihoods per sample:\n",
      "  0.0009903 for (p,beta)=(0.025,0.00028)\n",
      "  0.0009506 for (p,beta)=(0.017,0.00028)\n",
      "  0.0009036 for (p,beta)=(0.036,0.00028)\n",
      "  0.0010121 for (p,beta)=(0.025,0.00019)\n",
      "  0.0009307 for (p,beta)=(0.025,0.00040)\n"
     ]
    }
   ],
   "source": [
    "t = cascade[-1,0]\n",
    "n = len(cascade)\n",
    "\n",
    "evaluate_likelihood_of_params((p,beta), cascade, t)"
   ]
  },
  {
   "cell_type": "markdown",
   "metadata": {},
   "source": [
    "## Computation issues\n",
    "\n",
    "Now let's evaluate how costly it is to compute likelihood. To do so we use a provided generic test function ``evaluate_processing_time`` to measure processing times for various number of samples.\n",
    "\n",
    "> **Question: **  \n",
    "> Evaluate the algorithm using the provided code snipet and then plot the processing time versus the number of samples to determine the empirical complexity and compare it with the theoretical one."
   ]
  },
  {
   "cell_type": "code",
   "execution_count": 96,
   "metadata": {},
   "outputs": [],
   "source": [
    "import timeit\n",
    "\n",
    "def evaluate_processing_time(target, preprocessing, sizes):\n",
    "    \"\"\"\n",
    "    Returns a dataframe containing the processing time to evaluate a function for varying input size\n",
    "    \n",
    "    target        -- function to evaluate, taking as inputs the output of the preprocessing function\n",
    "    preprocessing -- function that generates inputs from a given size\n",
    "    sizes         -- range of sizes for which target functio has to be evaluated\n",
    "    \"\"\"\n",
    "    \n",
    "    times = np.zeros((len(sizes),2))\n",
    "    \n",
    "    for i,n in enumerate(sizes):\n",
    "        \n",
    "        print(f\"Preprocessing size {n}...\")\n",
    "        inputs = preprocessing(n)\n",
    "        \n",
    "        print(f\"Test size {n}\")        \n",
    "        test = timeit.Timer(lambda : target(inputs))\n",
    "        times[i] = [n, np.mean(test.timeit(1))]\n",
    "\n",
    "    return pd.DataFrame(times, columns=['size','time'])"
   ]
  },
  {
   "cell_type": "code",
   "execution_count": 97,
   "metadata": {},
   "outputs": [
    {
     "name": "stdout",
     "output_type": "stream",
     "text": [
      "n_star = 1.40\n",
      "Preprocessing size 100...\n",
      "Test size 100\n",
      "Preprocessing size 1000...\n",
      "Test size 1000\n",
      "Preprocessing size 10000...\n",
      "Test size 10000\n",
      "Preprocessing size 50000...\n",
      "Test size 50000\n"
     ]
    },
    {
     "data": {
      "text/html": [
       "<div>\n",
       "<style scoped>\n",
       "    .dataframe tbody tr th:only-of-type {\n",
       "        vertical-align: middle;\n",
       "    }\n",
       "\n",
       "    .dataframe tbody tr th {\n",
       "        vertical-align: top;\n",
       "    }\n",
       "\n",
       "    .dataframe thead th {\n",
       "        text-align: right;\n",
       "    }\n",
       "</style>\n",
       "<table border=\"1\" class=\"dataframe\">\n",
       "  <thead>\n",
       "    <tr style=\"text-align: right;\">\n",
       "      <th></th>\n",
       "      <th>size</th>\n",
       "      <th>time</th>\n",
       "    </tr>\n",
       "  </thead>\n",
       "  <tbody>\n",
       "    <tr>\n",
       "      <th>0</th>\n",
       "      <td>100.0</td>\n",
       "      <td>0.002752</td>\n",
       "    </tr>\n",
       "    <tr>\n",
       "      <th>1</th>\n",
       "      <td>1000.0</td>\n",
       "      <td>0.043541</td>\n",
       "    </tr>\n",
       "    <tr>\n",
       "      <th>2</th>\n",
       "      <td>10000.0</td>\n",
       "      <td>1.644202</td>\n",
       "    </tr>\n",
       "    <tr>\n",
       "      <th>3</th>\n",
       "      <td>50000.0</td>\n",
       "      <td>36.216251</td>\n",
       "    </tr>\n",
       "  </tbody>\n",
       "</table>\n",
       "</div>"
      ],
      "text/plain": [
       "      size       time\n",
       "0    100.0   0.002752\n",
       "1   1000.0   0.043541\n",
       "2  10000.0   1.644202\n",
       "3  50000.0  36.216251"
      ]
     },
     "execution_count": 97,
     "metadata": {},
     "output_type": "execute_result"
    }
   ],
   "source": [
    "p, beta = 0.04, 1/3600.\n",
    "alpha, mu = 2.4, 10\n",
    "m0 = 1000\n",
    "n_star = p * mu * (alpha - 1) / (alpha - 2)\n",
    "print(f\"n_star = {n_star:.2f}\")\n",
    "if n_star < 1:\n",
    "    raise Exception(\"Branching factor must be greater than 1 for this test\")\n",
    "   \n",
    "preprocessing_function = lambda n : simulate_marked_exp_hawkes_process((p,beta), m0, alpha, mu, max_size=n)\n",
    "function_to_evaluate = lambda cascade : naive_loglikelihood(params, cascade, cascade[-1,0])\n",
    "sizes = [ 100,1000,10000,50000]\n",
    "\n",
    "perf_naive = evaluate_processing_time(function_to_evaluate, preprocessing_function, sizes)\n",
    "perf_naive.head()\n"
   ]
  },
  {
   "cell_type": "code",
   "execution_count": 98,
   "metadata": {},
   "outputs": [
    {
     "data": {
      "text/plain": [
       "<matplotlib.axes._subplots.AxesSubplot at 0x7f53eb602550>"
      ]
     },
     "execution_count": 98,
     "metadata": {},
     "output_type": "execute_result"
    },
    {
     "data": {
      "image/png": "[encoded data removed]",
      "text/plain": [
       "<Figure size 1152x576 with 1 Axes>"
      ]
     },
     "metadata": {},
     "output_type": "display_data"
    }
   ],
   "source": [
    "perf_naive.plot('size', 'time', logx=True, logy=True, grid=True)"
   ]
  },
  {
   "cell_type": "markdown",
   "metadata": {},
   "source": [
    "## Fast computation of likelihood\n",
    "\n",
    "We now want to leverage the specific properties of the exponential kernel to derive a faster algorithm to compute loglikelihood.\n",
    "$$\\log\\mathcal{L}(\\theta) = (n-1) \\, \\log(p\\, \\beta) + \\sum_{i=2}^n \\log\\left(\\sum_{j=1}^{i-1} m_j \\, \\exp\\left(-\\beta \\,(t_i-t_j)\\right)\\right) - p \\,\\left(\\sum_{i=1}^n m_i \\, \\left(1 - \\exp \\left(-\\beta(t - t_i)\\right)\\right)\\right) $$\n",
    "\n",
    "To do so, observe the quadratic complexity comes from the term\n",
    "$$\\sum_{i=2}^n \\log\\left(\\sum_{j=1}^{i-1} m_j \\, \\exp\\left(-\\beta \\,(t_i-t_j)\\right)\\right)$$\n",
    "\n",
    "> **Question:**  \n",
    "> Introducing the sequence $(A_i)$ defined as\n",
    "> $$\n",
    "\\begin{align}\n",
    "& A_0 = 0 \\\\\n",
    "\\forall i \\in \\{1 \\dots n\\}, & A_i = \\sum_{j=1}^{i-1} m_j \\, \\exp\\left(-\\beta \\,(t_i-t_j)\\right) \\\\\n",
    "& A_{n+1} = \\sum_{j=1}^{n} m_j \\, \\exp\\left(-\\beta \\,(t-t_j)\\right)\n",
    "\\end{align}\n",
    "$$\n",
    "> find a recursive formula that computes $A_i(\\beta)$ from $A_{i-1}(\\beta)$ in constant time, assuming $A_0 = 0$.\n",
    "\n"
   ]
  },
  {
   "cell_type": "markdown",
   "metadata": {},
   "source": [
    "$$\n",
    "\\begin{align}\n",
    "A_i & = \\sum_{j=1}^{i-1} m_j \\, \\exp\\left(-\\beta \\,(t_i-t_j)\\right) \\\\\n",
    "& = \\exp\\left(-\\beta \\,(t_i-t_{i-1})\\right) \\, \\left(m_{i-1} + \\sum_{j=1}^{i-2} m_j \\, \\exp\\left(-\\beta \\,(t_{i-1}-t_j)\\right) \\right) \\\\\n",
    "& = \\exp\\left(-\\beta \\,(t_i-t_{i-1})\\right) \\, \\left(m_{i-1} + A_{i-1} \\right)\n",
    "\\end{align}\n",
    "$$"
   ]
  },
  {
   "cell_type": "markdown",
   "metadata": {},
   "source": [
    "> **Question:**  \n",
    "> Rewriting loglikelihood as function of terms $(A_i)_{1\\leq i \\leq n+1}$, implement in function ``loglikelihood`` a algorithm that computes with a linear complexity thanks to the recursive relation the loglikelihood $\\log\\mathcal{L}(\\theta)$."
   ]
  },
  {
   "cell_type": "markdown",
   "metadata": {},
   "source": [
    "$$\\log\\mathcal{L}(\\theta) = (n-1) \\, \\log(p\\, \\beta) + \\sum_{i=2}^n \\log\\left(A_i\\right) - p \\,\\left(\\sum_{i=1}^n m_i - A_{n+1} \\right) $$\n"
   ]
  },
  {
   "cell_type": "code",
   "execution_count": 100,
   "metadata": {},
   "outputs": [],
   "source": [
    "def loglikelihood(params, history, t):\n",
    "    \"\"\"\n",
    "    Returns the loglikelihood of a Hawkes process with exponential kernel\n",
    "    computed with a linear time complexity\n",
    "        \n",
    "    params   -- parameter tuple (p,beta) of the Hawkes process\n",
    "    history  -- (n,2) numpy array containing marked time points (t_i,m_i)  \n",
    "    t        -- current time (i.e end of observation window)\n",
    "    \"\"\"\n",
    "    \n",
    "    p,beta = params    \n",
    "    \n",
    "    if p <= 0 or p >= 1 or beta <= 0.: return -np.inf\n",
    "\n",
    "    n = len(history)\n",
    "    tis = history[:,0]\n",
    "    mis = history[:,1]\n",
    "    \n",
    "    LL = (n-1) * np.log(p * beta)\n",
    "    logA = -np.inf\n",
    "    prev_ti, prev_mi = history[0]\n",
    "    \n",
    "    i = 0\n",
    "    for ti,mi in history[1:]:\n",
    "        if(prev_mi + np.exp(logA) <= 0):\n",
    "            print(\"Bad value\", prev_mi + np.exp(logA))\n",
    "        \n",
    "        logA = np.log(prev_mi + np.exp(logA)) - beta * (ti - prev_ti)\n",
    "        LL += logA\n",
    "        prev_ti,prev_mi = ti,mi\n",
    "        i += 1\n",
    "        \n",
    "    logA = np.log(prev_mi + np.exp(logA)) - beta * (t - prev_ti)\n",
    "    LL -= p * (np.sum(mis) - np.exp(logA))\n",
    "\n",
    "    return LL"
   ]
  },
  {
   "cell_type": "markdown",
   "metadata": {},
   "source": [
    "> **Question:**  \n",
    "> Test function ``loglikelihood`` by comparing the result with the one returned by ``naive_loglikelihood``."
   ]
  },
  {
   "cell_type": "code",
   "execution_count": 101,
   "metadata": {},
   "outputs": [
    {
     "name": "stdout",
     "output_type": "stream",
     "text": [
      "quadratic loglikelihood per sample = -2.2745120058516166\n",
      "   linear loglikelihood per sample = -2.2745120058516055\n"
     ]
    }
   ],
   "source": [
    "p, beta = 0.04, 1/3600.\n",
    "alpha, mu = 2.4, 10\n",
    "m0 = 1000\n",
    "cascade = simulate_marked_exp_hawkes_process((p,beta), m0, alpha, mu)\n",
    "t = cascade[-1,0]\n",
    "n = len(cascade)\n",
    "\n",
    "LL1 = naive_loglikelihood(params, cascade, t)\n",
    "LL2 = loglikelihood(params, cascade, t)\n",
    "\n",
    "print(f\"quadratic loglikelihood per sample = {LL1/n}\")\n",
    "print(f\"   linear loglikelihood per sample = {LL2/n}\")"
   ]
  },
  {
   "cell_type": "markdown",
   "metadata": {},
   "source": [
    "> **Question:**  \n",
    "> Compare the empirical complexity of ``loglikelihood`` and ``naive_loglikelihood``.  \n",
    "> Verify that the complexity of ``loglikelihood`` is linear."
   ]
  },
  {
   "cell_type": "code",
   "execution_count": 102,
   "metadata": {},
   "outputs": [
    {
     "name": "stdout",
     "output_type": "stream",
     "text": [
      "n_star = 1.40\n",
      "Preprocessing size 100...\n",
      "Test size 100\n",
      "Preprocessing size 1000...\n",
      "Test size 1000\n",
      "Preprocessing size 10000...\n",
      "Test size 10000\n",
      "Preprocessing size 50000...\n",
      "Test size 50000\n"
     ]
    },
    {
     "data": {
      "text/html": [
       "<div>\n",
       "<style scoped>\n",
       "    .dataframe tbody tr th:only-of-type {\n",
       "        vertical-align: middle;\n",
       "    }\n",
       "\n",
       "    .dataframe tbody tr th {\n",
       "        vertical-align: top;\n",
       "    }\n",
       "\n",
       "    .dataframe thead th {\n",
       "        text-align: right;\n",
       "    }\n",
       "</style>\n",
       "<table border=\"1\" class=\"dataframe\">\n",
       "  <thead>\n",
       "    <tr style=\"text-align: right;\">\n",
       "      <th></th>\n",
       "      <th>size</th>\n",
       "      <th>time</th>\n",
       "    </tr>\n",
       "  </thead>\n",
       "  <tbody>\n",
       "    <tr>\n",
       "      <th>0</th>\n",
       "      <td>100.0</td>\n",
       "      <td>0.001214</td>\n",
       "    </tr>\n",
       "    <tr>\n",
       "      <th>1</th>\n",
       "      <td>1000.0</td>\n",
       "      <td>0.014392</td>\n",
       "    </tr>\n",
       "    <tr>\n",
       "      <th>2</th>\n",
       "      <td>10000.0</td>\n",
       "      <td>0.144806</td>\n",
       "    </tr>\n",
       "    <tr>\n",
       "      <th>3</th>\n",
       "      <td>50000.0</td>\n",
       "      <td>0.606626</td>\n",
       "    </tr>\n",
       "  </tbody>\n",
       "</table>\n",
       "</div>"
      ],
      "text/plain": [
       "      size      time\n",
       "0    100.0  0.001214\n",
       "1   1000.0  0.014392\n",
       "2  10000.0  0.144806\n",
       "3  50000.0  0.606626"
      ]
     },
     "execution_count": 102,
     "metadata": {},
     "output_type": "execute_result"
    }
   ],
   "source": [
    "p, beta = 0.04, 1/3600.\n",
    "alpha, mu = 2.4, 10\n",
    "m0 = 1000\n",
    "n_star = p * mu * (alpha - 1) / (alpha - 2)\n",
    "print(f\"n_star = {n_star:.2f}\")\n",
    "if n_star < 1:\n",
    "    raise Exception(\"Branching factor must be greater than 1 for this test\")\n",
    "\n",
    "preprocessing_function = lambda n : simulate_marked_exp_hawkes_process((p,beta), m0, alpha, mu, max_size=n)\n",
    "function_to_evaluate = lambda cascade : loglikelihood(params, cascade, cascade[-1,0])\n",
    "sizes = [ 100,1000,10000,50000]\n",
    "\n",
    "perf_optim = evaluate_processing_time(function_to_evaluate, preprocessing_function, sizes)\n",
    "perf_optim.head()"
   ]
  },
  {
   "cell_type": "code",
   "execution_count": 103,
   "metadata": {},
   "outputs": [
    {
     "data": {
      "text/plain": [
       "<matplotlib.legend.Legend at 0x7f53e8201358>"
      ]
     },
     "execution_count": 103,
     "metadata": {},
     "output_type": "execute_result"
    },
    {
     "data": {
      "image/png": "[encoded data removed]",
      "text/plain": [
       "<Figure size 1152x576 with 1 Axes>"
      ]
     },
     "metadata": {},
     "output_type": "display_data"
    }
   ],
   "source": [
    "ax = perf_naive.plot('size', 'time', logx=True, logy=True, grid=True)\n",
    "perf_optim.plot('size', 'time', logx=True, logy=True, grid=True, ax=ax)\n",
    "plt.legend(['naive', 'optim'])"
   ]
  },
  {
   "cell_type": "markdown",
   "metadata": {},
   "source": [
    "## Computing MLE\n",
    "\n",
    "Given a cascade and its history $\\mathcal{H}_t$ up to time $t$ ($t$ is the lengtho of the observation window), we now search for parameters $\\hat{\\theta}_{MLE} = (\\hat{p}_{MLE},\\hat{\\beta}_{MLE})$ that maximizes $\\log\\mathcal{L}(\\theta) = \\log P(\\mathcal{H}_t \\, | \\, \\theta)$. One necessary condition is that the gradient is zero:\n",
    "$$\\frac{\\partial \\log\\mathcal{L}}{\\partial p}(\\hat{\\theta}_{MLE}) = \\frac{\\partial \\log\\mathcal{L}}{\\partial \\beta}(\\hat{\\theta}_{MLE}) = 0$$\n",
    "where\n",
    "$$\\log\\mathcal{L}(\\theta) = (n-1) \\, \\log(p\\, \\beta) + \\sum_{i=2}^n \\log\\left(\\sum_{j=1}^{i-1} m_j \\, \\exp\\left(-\\beta \\,(t_i-t_j)\\right)\\right) - p \\,\\left(\\sum_{i=1}^n m_i \\, \\left(1 - \\exp \\left(-\\beta(t - t_i)\\right)\\right)\\right) $$\n",
    "The gradient is\n",
    "$$\n",
    "\\begin{align}\n",
    "\\frac{\\partial \\log\\mathcal{L}}{\\partial p}(p,\\beta) & = \\frac{n-1}{p} - \\sum_{i=1}^n m_i \\, \\left(1 - \\exp \\left(-\\beta(t - t_i)\\right)\\right) \\\\\n",
    "\\frac{\\partial \\log\\mathcal{L}}{\\partial \\beta}(p,\\beta) & = \\frac{n-1}{\\beta} - \\sum_{i=2}^n \\frac{\\sum_{j=1}^{i-1} m_j \\, (t_i - t_j) \\, \\exp\\left(-\\beta \\,(t_i - t_j)\\right)}{\\sum_{j=1}^{i-1} m_j \\, \\exp\\left(-\\beta \\,(t_i-t_j)\\right)} - p \\,\\left(\\sum_{i=1}^n m_i \\, (t - t_i) \\, \\exp \\left(-\\beta(t - t_i)\\right) \\right) \n",
    "\\end{align}\n",
    "$$\n",
    "\n",
    "> **Question:**  \n",
    "> Check the expression of the gradient given above. Is it possible to get MLE as a closed-form expression?\n",
    "\n"
   ]
  },
  {
   "cell_type": "markdown",
   "metadata": {},
   "source": [
    "### Computing MLE using an optimization method\n",
    "\n",
    "Since we do not have a closed-form solution we have to compute an approximate solution using some optimization algorithm.\n",
    "\n",
    "The optimization problem is formally\n",
    "> $\\mathtt{Given~} \\mathcal{H}_t, \\, \\mathtt{minimize} \\log\\mathcal{L}_t\\left((p,\\beta)\\right) \\, \\mathtt{~wih~} p \\in \\left]0, \\frac{1}{\\mathbf{E}(M)}\\right[ \\text{ and }\\beta \\in ]0, +\\infty[$\n",
    "\n",
    "This is a multivariate (i.e defined in $\\mathbb{R}^2$) optimization problem with bounds (i.e domains of $p$ and $\\beta$ are not $\\mathbb{R}$ but restricted subsets) and no additionnal constraint.\n",
    "\n",
    "Many algorithms have been developped in different optimization libraries to solve multivariate optimization problems, with our without constraints, with or without specific shapes for the target function and/or constraints, etc. Authors of the CIKM16 paper used library ``IPOPT`` on power-law kernels with four bounded parameters and an additional constraint. We will use simply the standard ``scipy.optimize`` library as our optimization problem is relatively elementary and with a low dimension of two.\n",
    "\n",
    "In general for high dimensional problems (constrained our not), one has to resort to \"local optimization techniques\" using either first-order derivation (i.e gradient of target function and Jacobian of constraints) or sometimes second-order derivatives (i.e Hessian matrix of the target function). These techniques can be seen as improvements of the gradient ascent/descent (first order) or Newton-Raphson (second order) algorithms, that integrate additional constraints and bounds.\n",
    "\n",
    "The normal roadmap would thus be to derive the expression of the gradient and even the Hessian matrix of our likelihood function and to use one of these algorithms.\n",
    "However this would require some times to derive these expression and to find an optimized algorithm to compute it as we did for the likelihood function.\n",
    "\n",
    "Since these derivations are error-prone, we propose to avoid this tedious work as we work on a very low dimensional space of the couple $(p,\\beta)$. In such case (and only in this case), we can use methods that only need to evaluate the target function to optimize (here the loglikelihood) without computing derivatives.\n",
    "\n",
    "Methods of the library ``scipy.optimize`` are listed in the documentation page of function\n",
    "[optimize.minimize](https://docs.scipy.org/doc/scipy/reference/generated/scipy.optimize.minimize.html#scipy.optimize.minimize).\n",
    "Among them, two methods are proposed that do not require derivatives:\n",
    "* [Nelder-Mead's method](https://en.wikipedia.org/wiki/Nelder%E2%80%93Mead_method) shrinks an elementary volume (i.e a simplex) towards a local optimum.\n",
    "* [Powell's method](https://en.wikipedia.org/wiki/Powell%27s_method) finds iteratively the local optimum by moving along some frame axes and then by updating these frame axes by inserting the best direction found at every step.\n",
    "\n",
    "In ``scipy.optimize``, Powell's method accepts bounds on variables where s Nelder-Mead's one does not.\n",
    "We therefore choose Powell's method.\n",
    "\n",
    "> **Question:**  \n",
    "> Complete function ``compute_MLE`` to find MLE using Powell's method \n",
    "> after reading the documentation of [scipy.optimize.minimize(method=’Powell’)](https://docs.scipy.org/doc/scipy/reference/optimize.minimize-powell.html)  \n",
    "\n",
    "> **Note:** *Do not forget that we want to MAXIMIZE loglikelihood where the standard assumption of optimization libraries is to MINIMIZE functions.*\n"
   ]
  },
  {
   "cell_type": "code",
   "execution_count": 174,
   "metadata": {},
   "outputs": [],
   "source": [
    "import scipy.optimize as optim\n",
    "\n",
    "def compute_MLE(history, t, alpha, mu, init_params=np.array([0.0001, 1./60]), max_n_star = 1., display=False):\n",
    "    \"\"\"\n",
    "    Returns the pair of the estimated loglikelihood and parameters (as a numpy array)\n",
    "\n",
    "    history     -- (n,2) numpy array containing marked time points (t_i,m_i)  \n",
    "    t           -- current time (i.e end of observation window)\n",
    "    alpha       -- power parameter of the power-law mark distribution\n",
    "    mu          -- min value parameter of the power-law mark distribution\n",
    "    init_params -- initial values for the parameters (p,beta)\n",
    "    max_n_star  -- maximum authorized value of the branching factor (defines the upper bound of p)\n",
    "    display     -- verbose flag to display optimization iterations (see 'disp' options of optim.optimize)\n",
    "    \"\"\"\n",
    "    \n",
    "    # Define the target function to minimize as minus the loglikelihood\n",
    "    target = lambda params : -loglikelihood(params, history, t)\n",
    "    \n",
    "    EM = mu * (alpha - 1) / (alpha - 2)\n",
    "    eps = 1.E-8\n",
    "    \n",
    "    # Define the bounds on p (first column) and beta (second column)\n",
    "    p_min, p_max       = eps, max_n_star/EM - eps\n",
    "    beta_min, beta_max = eps, 1.E8\n",
    "    \n",
    "    bounds = optim.Bounds(\n",
    "        np.array([p_min, beta_min]),\n",
    "    )\n",
    "    \n",
    "    # Run the optimization\n",
    "    res = optim.minimize(\n",
    "        target, init_params,\n",
    "        method='Powell',\n",
    "        bounds=bounds,\n",
    "        options={'xtol': 1e-8, 'disp': display}\n",
    "    )\n",
    "    \n",
    "    # Returns the loglikelihood and found parameters\n",
    "    return(-res.fun, res.x)"
   ]
  },
  {
   "cell_type": "markdown",
   "metadata": {},
   "source": [
    "> **Question:**  \n",
    "> Test ``compute_MLE`` by generating a sufficiently long cascade from a known parameterized model, compute the likelihood of the cascade and compare with the returned MLE likelihood and parameters.\n",
    "> Observe what happens when the number of samples is small."
   ]
  },
  {
   "cell_type": "code",
   "execution_count": 194,
   "metadata": {
    "scrolled": true
   },
   "outputs": [
    {
     "name": "stdout",
     "output_type": "stream",
     "text": [
      "n_star = 0.70\n",
      "     n = 56\n",
      "        LL = -7.2986 MLE = -7.2464\n",
      "         p = 0.02000 MLE = 0.02564\n",
      "      beta = 0.00028 MLE = 0.00018\n",
      "rel. error = 0.18\n"
     ]
    }
   ],
   "source": [
    "p, beta = 0.02, 1/3600.\n",
    "alpha, mu = 2.4, 10\n",
    "m0 = 1000\n",
    "\n",
    "n_star = p * mu * (alpha - 1) / (alpha - 2)\n",
    "print(f\"n_star = {n_star:.2f}\")\n",
    "if n_star < 1:\n",
    "    cascade = simulate_marked_exp_hawkes_process((p,beta), m0, alpha, mu)\n",
    "    n = len(cascade)\n",
    "    print(f\"     n = {n}\")\n",
    "    t = cascade[-1,0]\n",
    "\n",
    "    LL = loglikelihood((p, beta), cascade, t)\n",
    "    LL_MLE,MLE = compute_MLE(cascade, t, alpha, mu)\n",
    "    p_MLE, beta_MLE = MLE\n",
    "    rel_error = (np.abs(p_MLE - p) + np.abs(beta_MLE - beta) / beta)/2.\n",
    "    print(f\"        LL = {LL/n:.4f} MLE = {LL_MLE/n:.4f}\")\n",
    "    print(f\"         p = {p:.5f} MLE = {p_MLE:.5f}\")\n",
    "    print(f\"      beta = {beta:.5f} MLE = {beta_MLE:.5f}\")\n",
    "    print(f\"rel. error = {rel_error:.2f}\")"
   ]
  },
  {
   "cell_type": "markdown",
   "metadata": {},
   "source": [
    "Now we combine parameter estimation with prediction.\n",
    "\n",
    "> **Question:**  \n",
    "> Using function ``MLE_predictions`` that makes prediction according to the estimated MLE, plots the estimated prediction using MLE along with the estimated prediction using the true parameter values and the counting process. What do you observe in term of variance and computation time?"
   ]
  },
  {
   "cell_type": "code",
   "execution_count": 198,
   "metadata": {},
   "outputs": [],
   "source": [
    "def MLE_predictions(history, alpha, mu, T=None):\n",
    "    \"\"\"\n",
    "    Estimates MLE for different observation windows and apply prediction according using MLE. Returns\n",
    "    * the expected total numbers of points for a set of time points as a 1D-array\n",
    "    * the computed loglikelihoods as a 1D-array\n",
    "    * the estimated parameters as a 2D-array\n",
    "    \n",
    "    params   -- parameter tuple (p,beta) of the Hawkes process\n",
    "    history  -- (n,2) numpy array containing marked time points (t_i,m_i)  \n",
    "    alpha    -- power parameter of the power-law mark distribution\n",
    "    mu       -- min value parameter of the power-law mark distribution\n",
    "    T        -- 1D-array of times (i.e ends of observation window)\n",
    "    \"\"\"\n",
    "\n",
    "    tis = history[:,0]\n",
    "    if T is None:\n",
    "        T = np.linspace(60, tis[-1], 50) # Compute 50 points from 1min to last time point\n",
    "    \n",
    "    N    = np.zeros((len(T),2)); N[:,0] = T\n",
    "    LLs  = np.zeros((len(T),2)); LLs[:,0] = T\n",
    "    MLEs = np.zeros((len(T),3)); MLEs[:,0] = T\n",
    "\n",
    "    for i,t in enumerate(tqdm(T)):\n",
    "        partial_history = history[tis < t]\n",
    "        LL, MLE = compute_MLE(partial_history, t, alpha, mu, max_n_star=0.99)\n",
    "        N[i,1] = prediction(MLE, partial_history, alpha, mu, t)\n",
    "        LLs[i,1], MLEs[i,1:] = LL, MLE     \n",
    "    return N, LLs, MLEs"
   ]
  },
  {
   "cell_type": "code",
   "execution_count": 199,
   "metadata": {
    "scrolled": false
   },
   "outputs": [
    {
     "data": {
      "application/vnd.jupyter.widget-view+json": {
       "model_id": "961e7c320016444d9d85113476d5a146",
       "version_major": 2,
       "version_minor": 0
      },
      "text/plain": [
       "HBox(children=(FloatProgress(value=0.0, max=50.0), HTML(value='')))"
      ]
     },
     "metadata": {},
     "output_type": "display_data"
    },
    {
     "name": "stdout",
     "output_type": "stream",
     "text": [
      "\n"
     ]
    },
    {
     "data": {
      "text/plain": [
       "<matplotlib.legend.Legend at 0x7f53e76d4cf8>"
      ]
     },
     "execution_count": 199,
     "metadata": {},
     "output_type": "execute_result"
    },
    {
     "data": {
      "image/png": "[encoded data removed]",
      "text/plain": [
       "<Figure size 1152x576 with 1 Axes>"
      ]
     },
     "metadata": {},
     "output_type": "display_data"
    }
   ],
   "source": [
    "preds = predictions((p,beta), cascade, alpha, mu)\n",
    "MLE_preds, MLE_LLs, MLE_params = MLE_predictions(cascade, alpha, mu)\n",
    "N = counting_process(cascade)\n",
    "\n",
    "plt.plot(MLE_preds[:,0]/60, MLE_preds[:,1], label='MLE')\n",
    "plt.plot(preds[:,0]/60, preds[:,1], label='pred')\n",
    "plt.plot(N[:,0]/60, N[:,1], label='N')\n",
    "plt.ylim([0,N[-1,1]*3])\n",
    "plt.legend()    "
   ]
  },
  {
   "cell_type": "markdown",
   "metadata": {},
   "source": [
    "> **Question: **  \n",
    "> Plot on the three different subplots\n",
    "> - the MLE loglikelihoods along with the true loglikelihoods (must first be computed for every time of T).\n",
    "> - the MLE parameter p along with the true one\n",
    "> - the MLE parameter beta along with the true one"
   ]
  },
  {
   "cell_type": "code",
   "execution_count": 210,
   "metadata": {},
   "outputs": [
    {
     "data": {
      "application/vnd.jupyter.widget-view+json": {
       "model_id": "91bbd0c30e0947e18deffc24d05b2ace",
       "version_major": 2,
       "version_minor": 0
      },
      "text/plain": [
       "HBox(children=(FloatProgress(value=0.0, max=50.0), HTML(value='')))"
      ]
     },
     "metadata": {},
     "output_type": "display_data"
    },
    {
     "name": "stdout",
     "output_type": "stream",
     "text": [
      "\n"
     ]
    },
    {
     "data": {
      "text/plain": [
       "<matplotlib.legend.Legend at 0x7f53e6ca1438>"
      ]
     },
     "execution_count": 210,
     "metadata": {},
     "output_type": "execute_result"
    },
    {
     "data": {
      "image/png": "[encoded data removed]",
      "text/plain": [
       "<Figure size 1152x576 with 3 Axes>"
      ]
     },
     "metadata": {},
     "output_type": "display_data"
    }
   ],
   "source": [
    "T = MLE_LLs[:,0]\n",
    "\n",
    "# First we need to compute loglikelihoods for the true parameters\n",
    "LLs = np.empty_like(T)\n",
    "tis = cascade[:,0]\n",
    "  \n",
    "for i,t in enumerate(tqdm(T)):\n",
    "    partial_cascade = cascade[tis < t]\n",
    "    LLs[i] = loglikelihood((p, beta), partial_cascade, t)\n",
    "\n",
    "_, axis = plt.subplots(3)\n",
    "\n",
    "axis[0].plot(T/60, MLE_LLs[:,1], label='MLE')\n",
    "axis[0].plot(T/60, LLs, label='true')\n",
    "axis[0].legend() \n",
    "\n",
    "axis[1].plot(T/60, MLE_params[:,1], label='p_MLE')\n",
    "axis[1].plot(T/60, p * np.ones_like(T), label='p_true')\n",
    "axis[1].legend() \n",
    "\n",
    "axis[2].plot(T/60, MLE_params[:,2], label='beta_MLE')\n",
    "axis[2].plot(T/60, beta * np.ones_like(T), label='beta_true')\n",
    "plt.yscale('log')\n",
    "axis[2].legend() "
   ]
  },
  {
   "cell_type": "code",
   "execution_count": null,
   "metadata": {},
   "outputs": [],
   "source": [
    "def compute_MAP(cascade, t, alpha, mu, init_params=np.array([0.0001, 1./60]), display=False):\n",
    "    target = lambda params : -loglikelihood(params, cascade, t)\n",
    "    \n",
    "    EM = mu * (alpha - 1) / (alpha - 2)\n",
    "    eps = 1.E-8\n",
    "\n",
    "    bounds = optim.Bounds(\n",
    "        np.array([eps, eps]),\n",
    "        np.array([1/EM - eps, 1.E8])\n",
    "    )\n",
    "    \n",
    "    res = optim.minimize(\n",
    "        target, init_params,\n",
    "        method='Powell',\n",
    "        bounds=bounds,\n",
    "        options={'xtol': 1e-8, 'disp': display}\n",
    "    )\n",
    "    return(-res.fun, res.x)"
   ]
  },
  {
   "cell_type": "markdown",
   "metadata": {},
   "source": [
    "\n",
    "## Computing MLE\n",
    "\n",
    "We now search for parameters $\\hat{\\theta}_{MLE} = (\\hat{p}_{MLE},\\hat{\\beta}_{MLE})$ that maximizes $\\log\\mathcal{L}(\\theta)$. One necessary condition is that the gradient is zero:\n",
    "$$\\frac{\\partial \\log\\mathcal{L}}{\\partial p}(\\hat{\\theta}_{MLE}) = \\frac{\\partial \\log\\mathcal{L}}{\\partial \\beta}(\\hat{\\theta}_{MLE}) = 0$$\n",
    "where\n",
    "$$\\log\\mathcal{L}(\\theta) = (n-1) \\, \\log(p\\, \\beta) + \\sum_{i=2}^n \\log\\left(\\sum_{j=1}^{i-1} m_j \\, \\exp\\left(-\\beta \\,(t_i-t_j)\\right)\\right) - p \\,\\left(\\sum_{i=1}^n m_i \\, \\left(1 - \\exp \\left(-\\beta(t - t_i)\\right)\\right)\\right) $$\n",
    "\n",
    "> **Question:**  \n",
    "> Check the expression of the gradient given below. Setting gradient to zero, isolate expression of $p$ as a function of $\\beta$. Can you reinterpret this expression in order to give a more intuitive meaning to it?\n",
    "Use it to remove $p$ and get a single equation on $\\beta$.\n",
    "> Can you give MLE as a closed-form expression?\n",
    "\n",
    "$$\n",
    "\\begin{align}\n",
    "\\frac{\\partial \\log\\mathcal{L}}{\\partial p}(p,\\beta) & = \\frac{n-1}{p} - \\sum_{i=1}^n m_i \\, \\left(1 - \\exp \\left(-\\beta(t - t_i)\\right)\\right) \\\\\n",
    "\\frac{\\partial \\log\\mathcal{L}}{\\partial \\beta}(p,\\beta) & = \\frac{n-1}{\\beta} - \\sum_{i=2}^n \\frac{\\sum_{j=1}^{i-1} m_j \\, (t_i - t_j) \\, \\exp\\left(-\\beta \\,(t_i - t_j)\\right)}{\\sum_{j=1}^{i-1} m_j \\, \\exp\\left(-\\beta \\,(t_i-t_j)\\right)} - p \\,\\left(\\sum_{i=1}^n m_i \\, (t - t_i) \\, \\exp \\left(-\\beta(t - t_i)\\right) \\right) \n",
    "\\end{align}\n",
    "$$\n"
   ]
  },
  {
   "cell_type": "markdown",
   "metadata": {},
   "source": [
    "$$\n",
    "\\begin{align}\n",
    "p & = \\frac{n-1}{\\sum_{i=1}^n m_i \\, \\left(1 - \\exp \\left(-\\beta(t - t_i)\\right)\\right)} = \\frac{n-1}{\\mathbb{E}(N(t)|p=1)-1} \\\\\n",
    "\\frac{\\partial \\log\\mathcal{L}}{\\partial \\beta}(p,\\beta) & = \\frac{n-1}{\\beta} - \\sum_{i=2}^n \\frac{\\sum_{j=1}^{i-1} m_j \\, (t_i - t_j) \\, \\exp\\left(-\\beta \\,(t_i - t_j)\\right)}{\\sum_{j=1}^{i-1} m_j \\, \\exp\\left(-\\beta \\,(t_i-t_j)\\right)} - (n-1)\\, \\frac{\\sum_{i=1}^n m_i \\, (t - t_i) \\, \\exp \\left(-\\beta(t - t_i)\\right)}{\\sum_{i=1}^n m_i \\, \\left(1 - \\exp \\left(-\\beta(t - t_i)\\right)\\right)}\n",
    "\\end{align}\n",
    "$$"
   ]
  },
  {
   "cell_type": "markdown",
   "metadata": {},
   "source": [
    "Since MLE has no closed-form expression, we will compute it using gradient ascent. Gradient ascent computes iteratively the gradient up to convergence to zero.\n",
    "The expression of the gradient is still quadratic wrt $n$ and is even slightly more complex than the one of the likelihood.\n",
    "As a consequence, suppose one gets a large cascade of 10000 samples and we need 100 iterations for the gradient to converge. \n",
    "\n",
    "> **Question:**  \n",
    "> How long (at least) will take the estimation of the parameters? Is it acceptable?\n",
    "\n",
    "Suppose we can derive a algorithm that computes gradient with the roughly the same processig time as the optimized procedure to compute the likehood.\n",
    "\n",
    "> **Question:**  \n",
    "> How long will it take roughly to estimate the parameters using the optimized computation of the gradient?"
   ]
  },
  {
   "cell_type": "code",
   "execution_count": null,
   "metadata": {},
   "outputs": [],
   "source": [
    "print(f\"time naive     = {100 * 1.65:.2f} s\")\n",
    "print(f\"time optimized = {100 * 0.14:.2f} s\")"
   ]
  },
  {
   "cell_type": "markdown",
   "metadata": {},
   "source": [
    "We now want to derive an expression of the gradient that can be computed with a linear complexity.\n",
    "\n",
    "$$\\log\\mathcal{L}(\\theta) = (n-1) \\, \\log(p\\, \\beta) + \\sum_{i=2}^n \\log\\left(A_i(\\beta)\\right) - p \\,\\left(\\sum_{i=1}^n m_i - A_{n+1}(\\beta) \\right) $$\n",
    "\n",
    "The gradient of the first and last terms can be computed in $O(n)$. The problematic term is the central one when derivated with respect to $\\beta$.\n",
    "\n",
    "> **Question:**  \n",
    "> Introducing $B_i = \\frac{\\partial A_i}{\\partial \\beta}(\\beta)$ and derivating expression\n",
    "> $$A_i(\\beta) = \\exp\\left(-\\beta \\,(t_i-t_{i-1})\\right) \\, \\left(m_{i-1} + A_{i-1}(\\beta) \\right)$$\n",
    "> find a recursive relation that gives the expression of $B_i$ as a function of $A_i$ and $B_{i-1}$"
   ]
  },
  {
   "cell_type": "markdown",
   "metadata": {},
   "source": [
    "$$\n",
    "\\begin{align}\n",
    "B_i & = \\frac{\\partial}{\\partial \\beta}\\left( \\exp\\left(-\\beta \\,(t_i-t_{i-1})\\right) \\, \\left(m_{i-1} + A_{i-1}(\\beta) \\right)\\right) \\\\\n",
    "& = - (t_i - t_{i-1}) \\, A_i +  \\exp\\left(-\\beta \\,(t_i-t_{i-1})\\right) \\, B_{i-1}\n",
    "\\end{align}\n",
    "$$"
   ]
  },
  {
   "cell_type": "markdown",
   "metadata": {},
   "source": [
    "> **Question:**  \n",
    "> Rewriting the gradient as a function of $(A_i)$ and $(B_i)$, implement function ``gradient`` using recursive relations on $A_i$ and $B_i$ so that its complexity is in $O(n)$."
   ]
  },
  {
   "cell_type": "markdown",
   "metadata": {},
   "source": [
    "$$\n",
    "\\begin{align}\n",
    "\\frac{\\partial \\log\\mathcal{L}}{\\partial p}(p,\\beta) & = \\frac{n-1}{p} - \\left(\\sum_{i=1}^n m_i \\right) + A_{n+1}\\\\\n",
    "\\frac{\\partial \\log\\mathcal{L}}{\\partial \\beta}(p,\\beta) & = \\frac{n-1}{\\beta} + \\sum_{i=2}^n \\frac{B_i}{A_i}\n",
    " + p \\, B_{n+1}\n",
    "\\end{align}\n",
    "$$"
   ]
  },
  {
   "cell_type": "code",
   "execution_count": null,
   "metadata": {},
   "outputs": [],
   "source": [
    "def gradient(params, history, t):\n",
    "    \"\"\"\n",
    "    Returns the gradient of of a Hawkes process with exponential kernel\n",
    "    computed with a linear time complexity\n",
    "        \n",
    "    params   -- parameter tuple (p,beta) of the Hawkes process\n",
    "    history  -- (n,2) numpy array containing marked time points (t_i,m_i)  \n",
    "    t        -- current time (i.e end of observation window)\n",
    "    \"\"\"\n",
    "    \n",
    "    p,beta = params    \n",
    "    n = len(history)\n",
    "    tis = history[:,0]\n",
    "    mis = history[:,1]\n",
    "    \n",
    "    grad = (n-1) * np.array([1/p, 1/beta])\n",
    "    A, B = 0., 0.\n",
    "    prev_ti, prev_mi = history[0]\n",
    "    \n",
    "    for ti,mi in history[1:]:\n",
    "        dt = ti - prev_ti\n",
    "        exp_dt = np.exp(-beta * dt)\n",
    "        A = (prev_mi + A) * exp_dt\n",
    "        B = - dt * A + exp_dt * B\n",
    "        \n",
    "        grad[1] += B / A\n",
    "        prev_ti,prev_mi = ti,mi\n",
    "\n",
    "    dt = t - prev_ti\n",
    "    exp_dt = np.exp(-beta * dt)\n",
    "    A = (prev_mi + A) * exp_dt\n",
    "    B = - dt * A + exp_dt * B\n",
    "    grad[0] += A - np.sum(mis)\n",
    "    grad[1] += p * B\n",
    "\n",
    "    return grad   "
   ]
  },
  {
   "cell_type": "code",
   "execution_count": null,
   "metadata": {},
   "outputs": [],
   "source": [
    "params = (0.2, 1/3600.)\n",
    "m0 = 1000\n",
    "cascade = simulate_marked_exp_hawkes_process(params, m0)\n",
    "t = cascade[-1,0]\n",
    "n = len(cascade)\n",
    "\n",
    "from scipy.optimize import check_grad\n",
    "\n",
    "\n",
    "#print(f\"     linear gradient = {grad2/n}\")"
   ]
  },
  {
   "cell_type": "code",
   "execution_count": null,
   "metadata": {},
   "outputs": [],
   "source": [
    "def approx_gradient(f, params, eps=1.E-5, prop=True):\n",
    "    params = np.asarray(params)\n",
    "    v = f(params)\n",
    "    if prop:\n",
    "        dX = eps * params\n",
    "    else:\n",
    "        dX = eps * np.ones(2)\n",
    "    M = np.diag(dX) + params.reshape((1,-1))\n",
    "    G = np.zeros(2)\n",
    "    for i,m in enumerate(M):\n",
    "        G[i] = (f(m) - v) / dX[i]\n",
    "    return G"
   ]
  },
  {
   "cell_type": "code",
   "execution_count": null,
   "metadata": {},
   "outputs": [],
   "source": [
    "grad1 = approx_gradient(lambda p : loglikelihood(p, cascade, t), params, prop=True, eps=1.E-8)\n",
    "grad2 = gradient(params, cascade, t)\n",
    "print(f\"  Approximate gradient = {grad1}\")\n",
    "print(f\"     Computed gradient = {grad2}\")\n",
    "print(f\"Relative errors (in %) = {np.abs((grad2 - grad1)/grad1*100)}\")"
   ]
  },
  {
   "cell_type": "code",
   "execution_count": null,
   "metadata": {},
   "outputs": [],
   "source": [
    "class Solver:\n",
    "    def __init__(self, history, t, alpha,\n",
    "                 delay = None, \n",
    "                 verbose = False, \n",
    "                 prior_mean = np.zeros(2), \n",
    "                 prior_precision = np.zeros((2,2)), \n",
    "                 min_time_intervals = 10, \n",
    "                 max_number_samples = 10000, \n",
    "                 max_time = None):\n",
    "        \n",
    "        self.history = history\n",
    "        self.t               = t\n",
    "        self.alpha           = alpha\n",
    "        self.verbose         = verbose\n",
    "        self.prior_mean      = prior_mean\n",
    "        self.prior_precision = prior_precision\n",
    "        self.error           = None\n",
    "        \n",
    "        eps = np.finfo(float).eps\n",
    "        inf =  float('inf')\n",
    "        alpha = self.alpha\n",
    "        \n",
    "        self.variable_bounds = np.array([\n",
    "            [ eps , 1. - eps ], # p\n",
    "            [ eps , inf      ]  # Beta\n",
    "        ])\n",
    "\n",
    "        self.constraint_bounds = np.array([\n",
    "            [ eps, 0.99] # Branching factor constraint\n",
    "        ])\n",
    "\n",
    "        self.n = history.shape[0]\n",
    "        if self.n - 1 < min_time_intervals:\n",
    "            raise Exception(\"Only {} time intervals observed\".format(self.n - 1))\n",
    "        \n",
    "        if self.n > max_number_samples:\n",
    "            raise Exception(\"Cascade of length {} too large (max. set to {})\".format(self.n, max_number_samples))\n",
    "\n",
    "        now = time.time()\n",
    "        self.max_time = max_time\n",
    "        if max_time is None:\n",
    "            self.end_time = np.inf\n",
    "        else:\n",
    "            self.end_time = now + max_time\n",
    "        \n",
    "    def get_variable_bounds(self):\n",
    "        return self.variable_bounds\n",
    "    \n",
    "    def get_constraint_bounds(self):\n",
    "        return self.constraint_bounds\n",
    "        \n",
    "    def objective(self, params):\n",
    "        \"\"\" negative loglikelihood objective \"\"\"\n",
    "        self.params = params\n",
    "        return loglikelihood(params, self.history, t)\n",
    "\n",
    "    def gradient(self, params):\n",
    "        return gradient(params, self.history, t)\n",
    "\n",
    "    def check_variable_range(self, params):\n",
    "        low_bounds = self.variable_bounds[:,0]\n",
    "        high_bounds = self.variable_bounds[:,1]\n",
    "        \n",
    "        return np.all((low_bounds <= params) & (params <= high_bounds))\n",
    "        \n",
    "    def constraints(self, params):\n",
    "        \"\"\" branching factor constraint \"\"\"\n",
    "\n",
    "        if not self.check_variable_range(params):\n",
    "            return np.inf\n",
    "\n",
    "        kappa, beta, c, theta = params\n",
    "        alpha = self.alpha\n",
    "\n",
    "#        val = np.log(kappa / (1. - beta / (alpha - 1.))) - np.log(theta) - theta * np.log(c)\n",
    "\n",
    "        val = kappa * (alpha - 1.) / (alpha - 1. - beta) / (theta * (c ** theta))\n",
    "\n",
    "        return val\n",
    "\n",
    "    def jacobian(self, params):\n",
    "        \"\"\" Jacobian of branching factor constraint \"\"\"\n",
    "\n",
    "        if not self.check_variable_range(params):\n",
    "            return np.ones(4) * np.inf\n",
    "        \n",
    "        kappa, beta, c, theta = params\n",
    "        alpha = self.alpha\n",
    " \n",
    "        # return np.array([\n",
    "        #     1. / kappa,\n",
    "        #     1. / (alpha - 1. - beta),\n",
    "        #     -theta / c,\n",
    "        #     -1. / theta - np.log(c)\n",
    "        # ])\n",
    "\n",
    "        return (alpha - 1.) * np.array([\n",
    "            1. / (alpha - 1. - beta) / (theta * c ** theta),\n",
    "            kappa / ((alpha - 1. - beta) ** 2) / (theta * c ** theta),\n",
    "            -kappa / (alpha - 1. - beta) / (c ** (theta+1)),\n",
    "            -kappa / (alpha - 1. - beta) * (1. + np.log(c)) / ((theta ** 2) * (c ** theta))\n",
    "        ])\n",
    "\n",
    "    def intermediate(\n",
    "            self,\n",
    "            alg_mod,\n",
    "            iter_count,\n",
    "            obj_value,\n",
    "            inf_pr,\n",
    "            inf_du,\n",
    "            mu,\n",
    "            d_norm,\n",
    "            regularization_size,\n",
    "            alpha_du,\n",
    "            alpha_pr,\n",
    "            ls_trials):\n",
    "\n",
    "        now = time.time()\n",
    "        if now > self.end_time:\n",
    "            self.error = \"Maximal computation time of {} s. reached\".format(self.max_time)\n",
    "            return False\n",
    "        \n",
    "        if self.verbose:\n",
    "            if iter_count % 10 == 0:\n",
    "                cons = self.constraints(self.params)\n",
    "                print(\"{:4d} LL({}) = {:.2f} c = {:.2f}\".format(iter_count, self.params, obj_value, cons))\n",
    "\n",
    "def fit_parameters(params, history, t,\n",
    "                   T = None, delay = None,\n",
    "                   verbose = False, debug = False, throw_exception = True,\n",
    "                   max_iter = 100000, min_time_intervals = 10,\n",
    "                   max_number_samples = 10000, max_time = 10*60, n_tries = 3):\n",
    "\n",
    "\n",
    "    params = np.full(2, np.nan)\n",
    "\n",
    "    solver = Solver(history = history,\n",
    "                  t = t,\n",
    "                  verbose = verbose,\n",
    "                  prior_mean = prior_mean,\n",
    "                  prior_precision = prior_precision,\n",
    "                  min_time_intervals = min_time_intervals,\n",
    "                  max_time = max_time,\n",
    "                  max_number_samples = max_number_samples\n",
    "    )\n",
    "\n",
    "    variable_bounds = solver.get_variable_bounds()\n",
    "    constraint_bounds = solver.get_constraint_bounds()\n",
    "\n",
    "    nlp = ipopt.problem(problem_obj = solver,\n",
    "                    n = variable_bounds.shape[0],\n",
    "                    m = constraint_bounds.shape[0],\n",
    "                    lb = variable_bounds[:,0],\n",
    "                    ub = variable_bounds[:,1],\n",
    "                    cl = constraint_bounds[:,0],\n",
    "                    cu = constraint_bounds[:,1]\n",
    "    )\n",
    "\n",
    "    print_level = 5 if debug else 0\n",
    "    nlp.addOption('print_level', print_level) # Low level\n",
    "    nlp.addOption('max_iter', max_iter)       # Maximum number of iterations\n",
    "    nlp.addOption('sb', 'yes');               # Disable printing IPOPT banner in console\n",
    "\n",
    "    bestScore = -np.inf\n",
    "    for i in range(n_tries):\n",
    "        params = init_parameters(i)\n",
    "        if params is None:\n",
    "            break\n",
    "        params, info = nlp.solve(params)\n",
    "        if info['status'] not in {0,1,2,5, -1}:\n",
    "            if throw_exception:\n",
    "                raise Exception('IPOPT returned {} ({})'.format(info['status'], info['status_msg'].decode('ascii')))\n",
    "        elif info['status'] == 5:\n",
    "            if throw_exception:\n",
    "                raise Exception(solver.error)\n",
    "        elif info['status'] in {2, -1, -2}:\n",
    "            if (i + 1 == n_tries) and throw_exception:\n",
    "                raise Exception('IPOPT returned {} ({})'.format(info['status'], info['status_msg'].decode('ascii')))\n",
    "        elif info['obj_val'] > bestScore:\n",
    "            self.kernel.params = params\n",
    "            bestScore = info['obj_val']\n",
    "            break\n",
    "\n",
    "    return np.nan if bestScore == -np.inf else bestScore    \n"
   ]
  },
  {
   "cell_type": "markdown",
   "metadata": {},
   "source": [
    "It's time to analyse the ability of Hawkes processes to predict tweet popularity.\n",
    "\n",
    "# Analysing a Hawkes process\n",
    "\n",
    "Function ``analyse_process`` computes the main characteristic of a marked Hawkes process given some data observed on a time window [0,Tobs], including:\n",
    "- Branching factor\n",
    "- Average loglikelihood per sample\n",
    "- Absolute relative error at the end of the observation window (ARE)\n",
    "\n",
    "Most importantly, it plots the predicted popularity of the conditionned process as a function of time.\n",
    "The plot also provides the number of observed events as a function of time and the true popularity, i.e the total asymptotic number of events."
   ]
  },
  {
   "cell_type": "code",
   "execution_count": null,
   "metadata": {},
   "outputs": [],
   "source": [
    "def analyse_process(P, cascade, Tobs = None, Tmax= 60*100, likelihood = False, show_error = False, show_cascade = False):\n",
    "    P.add_samples(cascade)\n",
    "    \n",
    "    ti = cascade['time'].to_numpy()\n",
    "    t0, tend = ti[0], ti[-1]\n",
    "    L = tend - t0\n",
    "    if Tobs is None:\n",
    "        Tobs = tend\n",
    "    totevts = len(cascade)\n",
    "    print(\"\\n*** Analysing process {} on cascade {} ***\\n\".format(P, cascade.id))\n",
    "    print(\"Number of observed / total events = {} / {}\".format(P.seen_events(Tobs), totevts))\n",
    "    print(\"   Length of cascade (in minutes) = {}\".format(int(L/60)))\n",
    "    \n",
    "    print(\"                 Branching factor = {:.2f} \".format(P.branching_factor()))\n",
    "    print(\"           Loglikelihood / sample = {:.2f}\".format(P.log_likelihood_per_sample(Tobs)))\n",
    "    pred = int(P.predict_total_events(Tobs))\n",
    "    print(\"             ARE at Tobs = {:2} min = {}/{} = {:.2f}\".format(int(Tobs / 60), \\\n",
    "                                    pred - totevts, totevts, np.abs(pred - totevts) / totevts))\n",
    "  \n",
    "    T = np.arange(t0, t0 + Tmax, 1)\n",
    "    n_events = P.seen_events(T)\n",
    "    pred_n_events = P.predict_total_events(T)\n",
    "    \n",
    "    Tmin = T/60.\n",
    "    plt.figure() \n",
    "    n_curves = 1 + show_error + show_cascade\n",
    "    \n",
    "    plt.subplot(n_curves,1,1, label = 'axe1')\n",
    "    plt.plot(Tmin, pred_n_events, 'b', label = 'predicted')\n",
    "    plt.plot(Tmin, n_events, '--', color = 'green', label = 'observed')\n",
    "    plt.plot(Tmin, totevts * np.ones(T.shape), '--', color = 'red', label = 'total size')\n",
    "    plt.title('Predicted number of events')\n",
    "    plt.legend()\n",
    "    plt.xlim(Tmin[0],Tmin[-1])\n",
    "    \n",
    "    i_curve = 2\n",
    "    if show_error:\n",
    "        plt.subplot(n_curves,1,i_curve, label='axe2')\n",
    "        i_curve += 1\n",
    "        ARE = np.abs(pred_n_events - totevts) / totevts\n",
    "        plt.plot(Tmin, ARE)\n",
    "        plt.title('Absolute Relative Error (ARE)')\n",
    "        plt.xlim(Tmin[0],Tmin[-1])\n",
    "        \n",
    "    if show_cascade:\n",
    "        plt.subplot(n_curves,1,i_curve)\n",
    "        plot_cascade(cascade, Tmax = Tmax)\n",
    "        plt.xlim(Tmin[0],Tmin[-1])\n",
    "    plt.xlabel('Time (min)')\n"
   ]
  },
  {
   "cell_type": "markdown",
   "metadata": {},
   "source": [
    "Let's tune some handcrafted Hawkes process to get a good prediction at Tobs = 10 min and see how good is the likelihood."
   ]
  },
  {
   "cell_type": "code",
   "execution_count": null,
   "metadata": {
    "scrolled": false
   },
   "outputs": [],
   "source": [
    "cascade = read_cascade(0)\n",
    "#P = HawkesProcess(PowerLawKernel([80., 0.65, 800, 1.242]))\n",
    "P = HawkesProcess(PowerLawKernel([100000., 0.5, 10000, 1.5]))\n",
    "P.add_samples(cascade)\n",
    "analyse_process(P, cascade, Tobs = 60 * 10, Tmax = 60 * 1000, show_error = True, show_cascade = True)"
   ]
  },
  {
   "cell_type": "markdown",
   "metadata": {},
   "source": [
    "At a first glance we could think performance is excellent as ARE is quite low and the loglikelihood is also relatively high.\n",
    "However we observe here a relatively complex cascade, made of a first initial burst followed by a second one occurring at about T = 100 min. While parameters have been adjusted to match the dynamics of the first burst (see the good prediction on time interval [0,100]), these parameters do not fit the dynamic of the second stronger burst so that it makes the prediction jump too high for Tobs = 150 min.\n",
    "\n",
    "We see on this example the problem is not simple... We will try to do our best to predict correctly the simple cases (one initial burst relaxing over time) while we should not be naive and we should accept the fact no models will be able to predict the unpredictable. \n",
    "As a data scientist you should always keep your common sense in order to know what is feasible and what is not...\n"
   ]
  },
  {
   "cell_type": "markdown",
   "metadata": {},
   "source": [
    "\n",
    "# Fitting parameters of a Hawkes process\n",
    "\n",
    "Now let's see if one can recover the parameters by calling the ``fit_parameters`` method that implements the maximum likelihood estimator (MLE) for a given partially observed cascade.\n"
   ]
  },
  {
   "cell_type": "markdown",
   "metadata": {},
   "source": [
    "But first, let's make some sanity check by verifying our solver correctly computes the gradient of the cost function (the negative loglikelihood or NLL)."
   ]
  },
  {
   "cell_type": "code",
   "execution_count": null,
   "metadata": {},
   "outputs": [],
   "source": [
    "P = HawkesProcess(PowerLawKernel())\n",
    "P.add_samples(cascade)\n",
    "\n",
    "params = np.array([80., 0.65, 800, 1.242])\n",
    "solver = hawkes.HawkesSolver(process = P, verbose = True)\n",
    "print(\"Analytical gradient   = \", solver.gradient(params))\n",
    "print(\"Approximated gradient = \", solver.approx_gradient(params,eps=1E-8))\n"
   ]
  },
  {
   "cell_type": "markdown",
   "metadata": {},
   "source": [
    "Now that we are confident in our model, let's estimate parameters using the whole cascade and the previous parameter values to initialize the optimization.\n",
    "To do this, let's define an intermediate function ``fit_parameters`` to easily verify that it increases the loglikelihood of the Hawkes process."
   ]
  },
  {
   "cell_type": "code",
   "execution_count": null,
   "metadata": {},
   "outputs": [],
   "source": [
    "def fit_parameters(cascade, init_params = None, Tobs = None):\n",
    "    P = HawkesProcess(PowerLawKernel(init_params))\n",
    "    if Tobs is None:\n",
    "        P.add_samples(cascade)\n",
    "    else:\n",
    "        P.add_samples(cascade[cascade['time'] <= Tobs])\n",
    "    print(\"\\nInitial process:\")\n",
    "    print(\"   parameters     =\", P)\n",
    "    print(\"   loglikelihood  = {:.2f} / sample\".format(P.log_likelihood_per_sample(Tobs)))\n",
    "    NLL = P.fit_parameters(T = Tobs, verbose = False)\n",
    "    print(\"   parameters    =\", P)\n",
    "    print(\"   loglikelihood = {:.2f} / sample\\n\".format(-NLL))\n",
    "    return P"
   ]
  },
  {
   "cell_type": "markdown",
   "metadata": {},
   "source": [
    "Let's first estimate the parameters given the whole cascade."
   ]
  },
  {
   "cell_type": "code",
   "execution_count": null,
   "metadata": {
    "scrolled": false
   },
   "outputs": [],
   "source": [
    "Tobs = 10 * 60\n",
    "P = fit_parameters(cascade)\n",
    "analyse_process(P, cascade, Tobs = Tobs, Tmax= 60 * 1000, show_error = True, show_cascade = True)"
   ]
  },
  {
   "cell_type": "markdown",
   "metadata": {},
   "source": [
    "The optimizer globally works as it increases substantially the loglikelihood during the optimization process. The likelihood is even slightly larger than the one obtained with the handcrafted process.\n",
    "However in term of predictability, the results are not so good according to ARE.\n",
    "\n",
    "Moreover this estimation is not realistic in the context of real-time prediction of popularity since the whole cascade has been used for fitting the parameters. Let's see how MLE behaves when using only the first 10 minutes."
   ]
  },
  {
   "cell_type": "code",
   "execution_count": null,
   "metadata": {},
   "outputs": [],
   "source": [
    "P = fit_parameters(cascade, Tobs = Tobs)\n",
    "analyse_process(P, cascade, Tobs = Tobs, show_error = True, show_cascade = True)"
   ]
  },
  {
   "cell_type": "markdown",
   "metadata": {},
   "source": [
    "ARE at 10 minutes rises to 5000 % !!! The results are really terrible... However if one looks at the likelihood per sample, it appears even larger than the score we get when we takes into account the whole cascade. This is logical as we take into account lesser samples: it is thus easier to find a model matching the data. In other words, this model typically overfits. We need to regularize the model in order to reduce the variance of the estimator. But before doing this, let's evaluate MLE on the whole dataset for sake of comparison."
   ]
  },
  {
   "cell_type": "markdown",
   "metadata": {},
   "source": [
    "# Evaluating the maximum likelihood estimator of Hawkes processes (MLE)\n",
    "\n",
    "We want to evaluate the ability of MLE to estimate cascade poplarities.\n",
    "Let's first define a function that computes ARE for a given process, cascade and observation length."
   ]
  },
  {
   "cell_type": "code",
   "execution_count": null,
   "metadata": {},
   "outputs": [],
   "source": [
    "def compute_ARE(P, T, cascade):\n",
    "    totevts = len(cascade)\n",
    "    pred_n_events = P.predict_total_events(np.asarray(T))\n",
    "    ARE = np.abs(pred_n_events - totevts) / totevts\n",
    "    if len(ARE.shape) == 0:\n",
    "        return float(ARE)\n",
    "    else:\n",
    "        return ARE"
   ]
  },
  {
   "cell_type": "code",
   "execution_count": null,
   "metadata": {},
   "outputs": [],
   "source": [
    "stats = pd.DataFrame()\n",
    "Tobs = 60 * 10\n",
    "test_size = 100\n",
    "\n",
    "train_size = 400\n",
    "train_ids = range(n_cascades - train_size, n_cascades)\n"
   ]
  },
  {
   "cell_type": "markdown",
   "metadata": {},
   "source": [
    "Then we define a function that computes ARE for a given subset of cascades and a given observation length."
   ]
  },
  {
   "cell_type": "code",
   "execution_count": null,
   "metadata": {},
   "outputs": [],
   "source": [
    "def add_stats(stats, ARE, test_name, horizon):\n",
    "    if stats is not None:\n",
    "        horizon = np.inf if horizon is None else int(horizon/60)\n",
    "        stats[(test_name, horizon)] = pd.DataFrame(ARE).describe()[0]\n",
    "\n",
    "def get_range_of_ids(ids, cascade_directory = cascade_directory):\n",
    "    n = len(os.listdir(cascade_directory))\n",
    "    \n",
    "    def convert_index(id):\n",
    "        if isinstance(id, int):\n",
    "            return id\n",
    "        elif isinstance(id, float):\n",
    "            return range(int(n * id))\n",
    "        \n",
    "    if ids is None:\n",
    "        return range(n)\n",
    "    elif isinstance(ids, tuple):\n",
    "        min_index, max_index = ids\n",
    "        return range(convert_index(min_index), convert_inex(max_index))\n",
    "    elif isinstance(ids, (int, float)):\n",
    "        return range(convert_index(ids))\n",
    "    else:\n",
    "        return ids\n",
    "\n",
    "def evaluate(estimator,\n",
    "             stats = None,\n",
    "             Tobs = 60 * 10, Tfit = None, \n",
    "             ids = None):\n",
    "    ids = get_range_of_ids(ids)\n",
    "    if Tfit is None:\n",
    "        Tfit = Tobs\n",
    "    elif Tfit == \"all\":\n",
    "        Tfit = None\n",
    "    \n",
    "    n = len(ids)\n",
    "    ARE = np.zeros(n)\n",
    "    for i,id in enumerate(tqdm(ids)):\n",
    "        try:\n",
    "            cascade = read_cascade(id)\n",
    "            model = estimator.fit(cascade, Tfit)\n",
    "            ARE[i] = compute_ARE(model, Tobs, cascade)        \n",
    "        except Exception as ex:\n",
    "            print(\"{:3}/{:3}) Processing casc.{} failed: {}\".format(i,n,id,ex))\n",
    "            ARE[i] = np.nan\n",
    "            \n",
    "    add_stats(stats, ARE, estimator.name, Tfit) \n",
    "    return ARE"
   ]
  },
  {
   "cell_type": "markdown",
   "metadata": {},
   "source": [
    "We first evaluate MLE using only the available observed samples and store the results in some Panda dataframe to collect statistics of various tests."
   ]
  },
  {
   "cell_type": "code",
   "execution_count": null,
   "metadata": {},
   "outputs": [],
   "source": []
  },
  {
   "cell_type": "code",
   "execution_count": null,
   "metadata": {},
   "outputs": [],
   "source": [
    "class Baseline:\n",
    "    def __init__(self):\n",
    "        self.name = \"BASE\"\n",
    "\n",
    "    def learn(self, cascade, total_size):\n",
    "        pass\n",
    "\n",
    "    def fit(self, cascade, Tfit):\n",
    "        pass"
   ]
  },
  {
   "cell_type": "code",
   "execution_count": null,
   "metadata": {},
   "outputs": [],
   "source": [
    "class MLE:\n",
    "    def __init__(self, init_params = None, max_time = 60 * 2.):\n",
    "        self.name = \"MLE\"\n",
    "        self.init_params = init_params\n",
    "        self.max_time = max_time\n",
    "        \n",
    "    def fit(self, cascade, Tfit):\n",
    "        P = HawkesProcess(PowerLawKernel(self.init_params))\n",
    "        P.add_samples(cascade)\n",
    "        P.fit_parameters(T = Tfit, max_time = self.max_time)\n",
    "        return P"
   ]
  },
  {
   "cell_type": "code",
   "execution_count": null,
   "metadata": {
    "scrolled": false
   },
   "outputs": [],
   "source": [
    "max_time = 60 * 2.\n",
    "\n",
    "MLE_RT_ARE = evaluate(MLE(max_time = max_time), stats = stats, Tobs = Tobs, ids = test_size)\n",
    "stats"
   ]
  },
  {
   "cell_type": "markdown",
   "metadata": {},
   "source": [
    "As expected, the results are very bad. Now see what we get using the whole cascades by setting argument `Tfit` to `\"all\"` (by default, `Tfit` is set to the size `Tobs` of the observation window)"
   ]
  },
  {
   "cell_type": "code",
   "execution_count": null,
   "metadata": {
    "scrolled": false
   },
   "outputs": [],
   "source": [
    "MLE_ALL_ARE = evaluate(MLE(max_time = max_time), stats = stats, Tobs = Tobs, Tfit = \"all\", ids = test_size)\n",
    "stats"
   ]
  },
  {
   "cell_type": "markdown",
   "metadata": {},
   "source": [
    "While results are better, they are still very disappointing... Let's take a closer look at problematic case, like example 11."
   ]
  },
  {
   "cell_type": "code",
   "execution_count": null,
   "metadata": {
    "scrolled": false
   },
   "outputs": [],
   "source": [
    "cascade = read_cascade(0)\n",
    "P = fit_parameters(cascade, Tobs = Tobs)\n",
    "analyse_process(P, cascade, Tobs = Tobs, Tmax= 60 * 1000, show_error = True, show_cascade = True)"
   ]
  },
  {
   "cell_type": "markdown",
   "metadata": {},
   "source": [
    "# Test on real data\n",
    "\n",
    "Now it's time to look at some real data.\n",
    "First read the required modules and sets the global configuration parameters."
   ]
  },
  {
   "cell_type": "markdown",
   "metadata": {},
   "source": [
    "## Extract cascades from raw data\n",
    "\n",
    "Function `extract_cascades` extracts all cascades from the raw datasets and save them into separate files.\n",
    "Setting argument `force` to `true` forces the extraction even when output files are already existing."
   ]
  },
  {
   "cell_type": "code",
   "execution_count": null,
   "metadata": {},
   "outputs": [],
   "source": [
    "cascade_directory = './cache/cascades'\n",
    "\n",
    "def extract_cascades(data_directory, output_directory, force = False):\n",
    "    df_events = pd.read_csv(os.path.join(data_directory, 'data.csv'))\n",
    "    df_indexes = pd.read_csv(os.path.join(data_directory, 'index.csv'))\n",
    "    n_cascades = len(df_indexes)\n",
    "    with tqdm(total = n_cascades) as pbar:\n",
    "        for i,d in df_indexes.iterrows():\n",
    "            outputFilename = os.path.join(output_directory, \"casc-{}.csv\".format(i))\n",
    "            if force or not os.path.isfile(outputFilename):\n",
    "                begin,end = d['start_ind'] - 1, d['end_ind'] - 1\n",
    "                cascade = df_events[begin:end]\n",
    "                cascade.to_csv(outputFilename)\n",
    "            pbar.update(1)\n",
    "    return n_cascades\n",
    "\n",
    "def get_range_of_ids(ids, cascade_directory = cascade_directory):\n",
    "    n = len(os.listdir(cascade_directory))\n",
    "    \n",
    "    def convert_index(id):\n",
    "        if isinstance(id, int):\n",
    "            return id\n",
    "        elif isinstance(id, float):\n",
    "            return int(n * id)\n",
    "        \n",
    "    if ids is None:\n",
    "        return range(n)\n",
    "    elif isinstance(ids, tuple):\n",
    "        min_index, max_index = ids\n",
    "        return range(convert_index(min_index), convert_inex(max_index))\n",
    "    elif isinstance(ids, (int, float)):\n",
    "        return range(convert_index(ids))\n",
    "    else:\n",
    "        return ids"
   ]
  },
  {
   "cell_type": "code",
   "execution_count": null,
   "metadata": {
    "scrolled": true
   },
   "outputs": [],
   "source": [
    "n_cascades = extract_cascades('../../../data/news', cascade_directory)\n",
    "print(\"{} cascades extracted\".format(n_cascades))"
   ]
  },
  {
   "cell_type": "markdown",
   "metadata": {},
   "source": [
    "## Read a cascade file\n",
    "\n",
    "Function ``read_cascade`` loads into a Pandas dataframe data of a cascade given its index."
   ]
  },
  {
   "cell_type": "code",
   "execution_count": null,
   "metadata": {},
   "outputs": [],
   "source": [
    "def read_cascade(casc_index, cascade_directory = cascade_directory):\n",
    "    cascade = pd.read_csv(os.path.join(cascade_directory, 'casc-{}.csv'.format(casc_index)), names=['time', 'magnitude'], header=0)\n",
    "    cascade.id = casc_index\n",
    "    return cascade"
   ]
  },
  {
   "cell_type": "code",
   "execution_count": null,
   "metadata": {
    "scrolled": true
   },
   "outputs": [],
   "source": [
    "cascade = read_cascade(0) # Reads the first cascade\n",
    "cascade.head()"
   ]
  },
  {
   "cell_type": "markdown",
   "metadata": {},
   "source": [
    "We see that the cascade follows an odd scheme: it is made of two distinct sequences of tweets with very influent followers still active after a long time."
   ]
  },
  {
   "cell_type": "markdown",
   "metadata": {},
   "source": [
    "# Regularized solution and the MAP estimator\n",
    "\n",
    "One possible improvement is to regularize the MLE estimator in a non empirical manner, i.e by introducing a sound prior and computing the MAP estimator.\n"
   ]
  },
  {
   "cell_type": "markdown",
   "metadata": {},
   "source": [
    "## Estimating priors\n",
    "\n",
    "One idea to define a sound prior is to estimate the joint distribution of parameters for models with a reasonnable good performance on a train dataset.\n",
    "\n",
    "To this end, we modify `evaluate_MLE` to save into a dataframe the fitted parameters along with ARE.\n"
   ]
  },
  {
   "cell_type": "code",
   "execution_count": null,
   "metadata": {},
   "outputs": [],
   "source": [
    "def evaluate_parameters(estimator,\n",
    "                        stats = None,\n",
    "                        Tobs = 60 * 10, Tfit = None, \n",
    "                        ids = None):\n",
    "    ids = get_range_of_ids(ids)\n",
    "    if Tfit is None:\n",
    "        Tfit = Tobs\n",
    "    elif Tfit == \"all\":\n",
    "        Tfit = None\n",
    "\n",
    "    param_dist = None\n",
    "    n = len(ids)\n",
    "    for i,id in enumerate(tqdm(ids)):\n",
    "        try:\n",
    "            cascade = read_cascade(id)\n",
    "            model = estimator.fit(cascade, Tfit)\n",
    "            ARE = compute_ARE(model, Tobs, cascade)\n",
    "            params = model.params()\n",
    "            if param_dist is None:\n",
    "                param_dist = np.full((n,len(params) + 1), np.nan)\n",
    "            param_dist[i] = np.append(params, ARE)\n",
    "            \n",
    "        except Exception as ex:\n",
    "            print(\"{:3}/{:3}) Processing casc.{} failed: {}\".format(i,n,id,ex))\n",
    "    \n",
    "    if param_dist is None:\n",
    "        return None\n",
    "    else:\n",
    "        add_stats(stats, param_dist[:,-1], estimator.name, Tfit) \n",
    "        df = pd.DataFrame(data = param_dist, index = ids, columns = ['kappa', 'beta', 'c', 'theta', 'alpha', 'ARE'])\n",
    "        df.index.name = \"id\"    \n",
    "        return df"
   ]
  },
  {
   "cell_type": "code",
   "execution_count": null,
   "metadata": {},
   "outputs": [],
   "source": [
    "MLE_distrib = evaluate_parameters(MLE(max_time = max_time), Tobs = 60*10, Tfit = \"all\", ids = train_ids)"
   ]
  },
  {
   "cell_type": "code",
   "execution_count": null,
   "metadata": {},
   "outputs": [],
   "source": [
    "MLE_distrib.head()"
   ]
  },
  {
   "cell_type": "code",
   "execution_count": null,
   "metadata": {},
   "outputs": [],
   "source": [
    "\n",
    "def estimate_priors(param_distrib, ARE_threshold):\n",
    "    param_distrib_ok = param_distrib[param_distrib['ARE'] <= ARE_threshold]\n",
    "    param_mean = np.mean(param_distrib_ok, axis = 0)[:4]\n",
    "    param_covariance = np.cov(param_distrib_ok.T)[:4,:4]\n",
    "    return (param_mean.to_numpy(), param_covariance)"
   ]
  },
  {
   "cell_type": "code",
   "execution_count": null,
   "metadata": {},
   "outputs": [],
   "source": [
    "prior_mean, prior_covariance = estimate_priors(MLE_distrib, 0.3)\n",
    "print(\"prior mean =\\n\", prior_mean)\n",
    "print(\"prior covariance =\\n\", prior_covariance)\n",
    "prior_filename = './cache/prior.npz'\n",
    "np.savez(prior_filename, prior_mean = prior_mean, prior_covariance = prior_covariance)"
   ]
  },
  {
   "cell_type": "code",
   "execution_count": null,
   "metadata": {},
   "outputs": [],
   "source": [
    "prior = np.load(prior_filename)\n",
    "prior_mean = prior['prior_mean']\n",
    "prior_covariance = prior['prior_covariance']"
   ]
  },
  {
   "cell_type": "markdown",
   "metadata": {},
   "source": [
    "## Fitting parameters using MAP estimator\n"
   ]
  },
  {
   "cell_type": "code",
   "execution_count": null,
   "metadata": {},
   "outputs": [],
   "source": [
    "class MAP:\n",
    "    def __init__(self, prior_mean = None, prior_covariance = None, max_time = 60 * 2.):\n",
    "        self.name = \"MAP\"\n",
    "        self.prior_mean = prior_mean\n",
    "        self.prior_covariance = prior_covariance\n",
    "        self.max_time = max_time\n",
    "        \n",
    "    def fit(self, cascade, Tfit):\n",
    "        P = HawkesProcess(PowerLawKernel(prior_mean = self.prior_mean, prior_covariance = self.prior_covariance))\n",
    "        P.add_samples(cascade)\n",
    "        P.fit_parameters(T = Tfit, max_time = self.max_time)\n",
    "        return P"
   ]
  },
  {
   "cell_type": "code",
   "execution_count": null,
   "metadata": {
    "scrolled": false
   },
   "outputs": [],
   "source": [
    "MAP_RT_distrib = evaluate_parameters(MAP(prior_mean = prior_mean, \n",
    "                                         prior_covariance = prior_covariance,\n",
    "                                         max_time = max_time), \n",
    "                                     stats = stats,\n",
    "                                     Tobs = Tobs,\n",
    "                                     ids = test_size)\n",
    "stats"
   ]
  },
  {
   "cell_type": "markdown",
   "metadata": {},
   "source": [
    "For sake of completeness, we also compute the MAP estimator on the whole cascades"
   ]
  },
  {
   "cell_type": "code",
   "execution_count": null,
   "metadata": {},
   "outputs": [],
   "source": [
    "MAP_distrib = evaluate_parameters(MAP(prior_mean = prior_mean, \n",
    "                                      prior_covariance = prior_covariance,\n",
    "                                      max_time = max_time), \n",
    "                                  stats = stats,\n",
    "                                  Tobs = Tobs, Tfit = \"all\",\n",
    "                                  ids = test_size)\n",
    "stats"
   ]
  },
  {
   "cell_type": "code",
   "execution_count": null,
   "metadata": {},
   "outputs": [],
   "source": [
    "bins = np.arange(0,4,0.05)\n",
    "sns.distplot(MLE_RT_ARE, bins = bins, label = \"MLE RT\", hist = False, rug = True)\n",
    "sns.distplot(MLE_ALL_ARE, bins = bins, label = \"MLE ALL\", hist = False,  rug = True)\n",
    "sns.distplot(MAP_RT_distrib['ARE'], bins = bins, label = \"MAP RT\", hist = False,  rug = True)\n",
    "sns.distplot(MAP_distrib['ARE'], bins = bins, label = \"MAP ALL\", hist = False,  rug = True)\n",
    "plt.xlim(0,4)\n",
    "plt.legend()"
   ]
  },
  {
   "cell_type": "code",
   "execution_count": null,
   "metadata": {},
   "outputs": [],
   "source": [
    "MAP_distrib.head()"
   ]
  },
  {
   "cell_type": "code",
   "execution_count": null,
   "metadata": {},
   "outputs": [],
   "source": [
    "def compute_MAP(cascade, Tobs = None, Tfit = None, prior_mean = None, prior_covariance = None, verbose = False):\n",
    "    P = HawkesProcess(PowerLawKernel(prior_mean = prior_mean, prior_covariance = prior_covariance))\n",
    "    P.add_samples(cascade)\n",
    "        \n",
    "    if Tfit is None:\n",
    "        Tfit = Tobs\n",
    "    elif Tfit == \"all\":\n",
    "        Tfit = None\n",
    "        \n",
    "    print(\"Initial parameters     =\", P)\n",
    "    print(\"Initial loglikelihood  = {:.2f} / sample\".format(P.log_likelihood_per_sample(Tobs)))\n",
    "    RegNLL = P.fit_parameters(T = Tfit, verbose = verbose)\n",
    "    print(\"Returned parameters    =\", P)\n",
    "    print(\"Returned loglikelihood = {:.2f} / sample\".format(P.log_likelihood_per_sample(Tobs)))\n",
    "    return P"
   ]
  },
  {
   "cell_type": "code",
   "execution_count": null,
   "metadata": {
    "scrolled": false
   },
   "outputs": [],
   "source": [
    "cascade = read_cascade(0)\n",
    "P = compute_MAP(cascade, \n",
    "                Tobs = Tobs,\n",
    "                prior_mean = prior_mean, prior_covariance = prior_covariance, \n",
    "                verbose = False)\n",
    "analyse_process(P, cascade, Tobs = Tobs, Tmax = 60 * 1000, show_error = True, show_cascade = True)"
   ]
  },
  {
   "cell_type": "markdown",
   "metadata": {},
   "source": [
    "# Improving the predictive model using random forests "
   ]
  },
  {
   "cell_type": "code",
   "execution_count": null,
   "metadata": {},
   "outputs": [],
   "source": [
    "def extract_features(Tobs = 60 * 10, \n",
    "                     ids = None,\n",
    "                     prior_mean = None, \n",
    "                     prior_covariance = None):\n",
    "    \n",
    "    ids = get_range_of_ids(ids)\n",
    "\n",
    "    column_names = ['c', 'theta', 'A1', 'n_star', 'n_obs', 'n_tot', 'w']\n",
    "    training_dataset = np.full((len(ids),len(column_names)), np.nan)\n",
    "    for i, id in enumerate(tqdm(ids)):\n",
    "        cascade = read_cascade(id)\n",
    "        P = HawkesProcess(PowerLawKernel(prior_mean = prior_mean, prior_covariance = prior_covariance))\n",
    "        P.add_samples(cascade)\n",
    "        try:\n",
    "            P.fit_parameters(T = Tobs)\n",
    "            c = P.kernel.c\n",
    "            theta = P.kernel.theta\n",
    "            A1 = P.A1(Tobs)\n",
    "            n_star = P.branching_factor()\n",
    "            n_tot = len(cascade)\n",
    "            n_obs = P.seen_events(Tobs)\n",
    "            omega = (n_tot - n_obs) * (1. - n_star) / A1\n",
    "            training_dataset[i] = np.array([c, theta, A1, n_star, n_obs, n_tot, omega])\n",
    "        except Exception as ex:\n",
    "            print(\"Processing casc.{} failed: {}\".format(id,ex))\n",
    "        \n",
    "        \n",
    "    df = pd.DataFrame(data = training_dataset, index = ids, columns = column_names)\n",
    "    df.index.name = \"id\"    \n",
    "    return df"
   ]
  },
  {
   "cell_type": "code",
   "execution_count": null,
   "metadata": {
    "scrolled": false
   },
   "outputs": [],
   "source": [
    "features = extract_features(Tobs = 60*10,\n",
    "                            ids = train_ids,\n",
    "                            prior_mean = prior_mean, \n",
    "                            prior_covariance = prior_covariance)\n",
    "features.head()"
   ]
  },
  {
   "cell_type": "code",
   "execution_count": null,
   "metadata": {},
   "outputs": [],
   "source": [
    "features.dropna(inplace=True)\n",
    "features_filename = './cache/features.pickle'\n",
    "features.to_pickle(features_filename)"
   ]
  },
  {
   "cell_type": "code",
   "execution_count": null,
   "metadata": {},
   "outputs": [],
   "source": [
    "features = pd.read_pickle(features_filename)\n",
    "features"
   ]
  },
  {
   "cell_type": "code",
   "execution_count": null,
   "metadata": {},
   "outputs": [],
   "source": [
    "sns.distplot(features['w'])"
   ]
  },
  {
   "cell_type": "code",
   "execution_count": null,
   "metadata": {},
   "outputs": [],
   "source": [
    "features.describe()"
   ]
  },
  {
   "cell_type": "code",
   "execution_count": null,
   "metadata": {},
   "outputs": [],
   "source": [
    "from sklearn.ensemble import RandomForestRegressor\n",
    "#from sklearn.metrics import explained_variance_score, mean_absolute_error, mean_squared_error, r2_score\n",
    "from sklearn.model_selection import train_test_split"
   ]
  },
  {
   "cell_type": "code",
   "execution_count": null,
   "metadata": {},
   "outputs": [],
   "source": [
    "def train_random_forest(features, val_size):\n",
    "    X, w = features[['c', 'theta', 'A1','n_star']], features[['w']]\n",
    "    #w = w.reshape((-1,))\n",
    "    X_train, X_test, y_train, y_test = train_test_split(X, w, shuffle = True, test_size = val_size)\n",
    "\n",
    "    RF = RandomForestRegressor(n_estimators = 100,\n",
    "                               criterion=\"mae\", # \"mse\" Mean-Square Error; or \"mae\" Mean Absolute Error\n",
    "                               max_depth = 10)\n",
    "    RF.fit(X_train, y_train.to_numpy().ravel())\n",
    "    \n",
    "    w_preds = np.concatenate([tree.predict(X_test).reshape((1,-1)) for tree in RF.estimators_]).T\n",
    "    w_mean = np.mean(w_preds, axis = 1)\n",
    "    w_median = np.median(w_preds, axis = 1)\n",
    "    w_std = np.std(w_preds, axis = 1)\n",
    "    \n",
    "    res = pd.DataFrame(data = { 'w_mean': w_mean, 'w_median': w_median, 'w_std': w_std, 'w_true': y_test.to_numpy().ravel()}, index = X_test.index)\n",
    "    res['n_MAP'] = features['n_obs'] + features['A1'] / (1. - features['n_star'])\n",
    "    res['n_mean'] = features['n_obs'] + res['w_mean'] * features['A1'] / (1. - features['n_star'])\n",
    "    res['n_median'] = features['n_obs'] + res['w_median'] * features['A1'] / (1. - features['n_star'])\n",
    "    res['n_true'] = features['n_tot']\n",
    "    res['ARE_MAP'] = np.abs(res['n_MAP'] - res['n_true']) / res['n_true']\n",
    "    res['ARE_mean'] = np.abs(res['n_mean'] - res['n_true']) / res['n_true']\n",
    "    res['ARE_median'] = np.abs(res['n_median'] - res['n_true']) / res['n_true']\n",
    "    return RF, res, w_preds\n"
   ]
  },
  {
   "cell_type": "code",
   "execution_count": null,
   "metadata": {},
   "outputs": [],
   "source": [
    "RF,res, w_preds = train_random_forest(features, val_size = 20)\n",
    "res.describe()"
   ]
  },
  {
   "cell_type": "code",
   "execution_count": null,
   "metadata": {},
   "outputs": [],
   "source": [
    "import pickle\n",
    "\n",
    "RF_model_filename = \"./cache/RF.pikle\"\n",
    "with open(RF_model_filename, 'wb') as file:\n",
    "    pickle.dump(RF, file)"
   ]
  },
  {
   "cell_type": "code",
   "execution_count": null,
   "metadata": {},
   "outputs": [],
   "source": [
    "with open(RF_model_filename, 'rb') as file:\n",
    "    RF = pickle.load(file)"
   ]
  },
  {
   "cell_type": "code",
   "execution_count": null,
   "metadata": {},
   "outputs": [],
   "source": [
    "class RFHawkesProcess:\n",
    "    def __init__(self, kernel, RF):\n",
    "        self.P = HawkesProcess(kernel)\n",
    "        self.RF = RF\n",
    "        \n",
    "    def add_samples(self, cascade):\n",
    "        self.P.add_samples(cascade)\n",
    "    \n",
    "    def fit_parameters(self,**kwargs):\n",
    "        self.P.fit_parameters(**kwargs)\n",
    "\n",
    "    def predict_total_events(self, Tobs):\n",
    "        P = self.P\n",
    "        c = P.kernel.c\n",
    "        theta = P.kernel.theta\n",
    "        A1 = P.A1(Tobs)\n",
    "        n_star = P.branching_factor()\n",
    "        n_obs = P.seen_events(Tobs)\n",
    "    \n",
    "        X = np.array([c, theta, A1, n_star]).reshape((1,-1))\n",
    "        w_preds = np.array([tree.predict(X) for tree in self.RF.estimators_])\n",
    "        w_pred = np.median(w_preds)\n",
    "#        w_std = np.std(w_preds, axis = 1)\n",
    "        return n_obs + w_pred * A1 / (1. - n_star)\n",
    "\n",
    "class RF_MAP:\n",
    "    def __init__(self, RF, prior_mean = None, prior_covariance = None, max_time = 60 * 2.):\n",
    "        self.name = \"RF\"\n",
    "        self.RF = RF\n",
    "        self.prior_mean = prior_mean\n",
    "        self.prior_covariance = prior_covariance\n",
    "        self.max_time = max_time\n",
    "        \n",
    "    def fit(self, cascade, Tfit):\n",
    "        P = RFHawkesProcess(PowerLawKernel(prior_mean = self.prior_mean, prior_covariance = self.prior_covariance), RF = self.RF)\n",
    "        P.add_samples(cascade)\n",
    "        P.fit_parameters(T = Tfit, max_time = self.max_time)\n",
    "        return P"
   ]
  },
  {
   "cell_type": "code",
   "execution_count": null,
   "metadata": {},
   "outputs": [],
   "source": [
    "RF_RT_distrib = evaluate(RF_MAP(RF,\n",
    "                                           prior_mean = prior_mean, \n",
    "                                           prior_covariance = prior_covariance,\n",
    "                                           max_time = max_time), \n",
    "                                    stats = stats,\n",
    "                                    Tobs = Tobs,\n",
    "                                    ids = test_size)\n",
    "stats\n"
   ]
  },
  {
   "cell_type": "code",
   "execution_count": null,
   "metadata": {},
   "outputs": [],
   "source": [
    "RF_RT_distrib"
   ]
  },
  {
   "cell_type": "code",
   "execution_count": null,
   "metadata": {},
   "outputs": [],
   "source": [
    "stats"
   ]
  },
  {
   "cell_type": "code",
   "execution_count": null,
   "metadata": {},
   "outputs": [],
   "source": []
  }
 ],
 "metadata": {
  "kernelspec": {
   "display_name": "Python 3",
   "language": "python",
   "name": "python3"
  },
  "language_info": {
   "codemirror_mode": {
    "name": "ipython",
    "version": 3
   },
   "file_extension": ".py",
   "mimetype": "text/x-python",
   "name": "python",
   "nbconvert_exporter": "python",
   "pygments_lexer": "ipython3",
   "version": "3.6.9"
  }
 },
 "nbformat": 4,
 "nbformat_minor": 2
}
